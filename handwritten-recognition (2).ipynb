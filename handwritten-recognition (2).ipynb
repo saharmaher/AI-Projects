{
 "cells": [
  {
   "cell_type": "code",
   "execution_count": 66,
   "metadata": {
    "execution": {
     "iopub.execute_input": "2024-09-06T08:57:16.815913Z",
     "iopub.status.busy": "2024-09-06T08:57:16.815163Z",
     "iopub.status.idle": "2024-09-06T08:57:16.823426Z",
     "shell.execute_reply": "2024-09-06T08:57:16.822462Z",
     "shell.execute_reply.started": "2024-09-06T08:57:16.815861Z"
    }
   },
   "outputs": [],
   "source": [
    "# Common\n",
    "import numpy as np\n",
    "import pandas as pd\n",
    "import tensorflow as tf\n",
    "from IPython.display import clear_output as cls\n",
    "\n",
    "# Data\n",
    "from glob import glob\n",
    "from tqdm import tqdm\n",
    "import tensorflow.data as tfd\n",
    "import cv2\n",
    "# Data Visualization\n",
    "import matplotlib.pyplot as plt\n",
    "\n",
    "# Model\n",
    "from tensorflow import keras\n",
    "from tensorflow.keras import callbacks\n",
    "from tensorflow.keras import layers\n",
    "\n",
    "import warnings\n",
    "# Ignore all warnings\n",
    "warnings.filterwarnings('ignore')\n",
    "\n",
    "\n",
    "from tensorflow.keras.models import Model\n",
    "from tensorflow.keras.layers import Input, Conv2D, MaxPooling2D, Reshape, Dense, Bidirectional, LSTM, Lambda\n",
    "from tensorflow.keras.optimizers import Adam\n",
    "from tensorflow.keras.backend import ctc_batch_cost\n",
    "from tensorflow.keras.preprocessing.sequence import pad_sequences\n",
    "import tensorflow.keras.backend as K"
   ]
  },
  {
   "cell_type": "code",
   "execution_count": 67,
   "metadata": {
    "execution": {
     "iopub.execute_input": "2024-09-06T08:57:20.273591Z",
     "iopub.status.busy": "2024-09-06T08:57:20.272858Z",
     "iopub.status.idle": "2024-09-06T08:57:20.277884Z",
     "shell.execute_reply": "2024-09-06T08:57:20.276919Z",
     "shell.execute_reply.started": "2024-09-06T08:57:20.273550Z"
    }
   },
   "outputs": [],
   "source": [
    "train_path = \"/kaggle/input/handwriting-recognitionocr/CSV/written_name_train.csv\"\n",
    "test_path = \"/kaggle/input/handwriting-recognitionocr/CSV/written_name_test.csv\"\n",
    "val_path = \"/kaggle/input/handwriting-recognitionocr/CSV/written_name_validation.csv\""
   ]
  },
  {
   "cell_type": "code",
   "execution_count": 68,
   "metadata": {
    "execution": {
     "iopub.execute_input": "2024-09-06T08:57:23.513769Z",
     "iopub.status.busy": "2024-09-06T08:57:23.513361Z",
     "iopub.status.idle": "2024-09-06T08:57:23.520154Z",
     "shell.execute_reply": "2024-09-06T08:57:23.519177Z",
     "shell.execute_reply.started": "2024-09-06T08:57:23.513730Z"
    }
   },
   "outputs": [
    {
     "data": {
      "text/plain": [
       "(256, 32, 1)"
      ]
     },
     "execution_count": 68,
     "metadata": {},
     "output_type": "execute_result"
    }
   ],
   "source": [
    "train_imgs[0].shape"
   ]
  },
  {
   "cell_type": "code",
   "execution_count": 4,
   "metadata": {
    "execution": {
     "iopub.execute_input": "2024-09-06T07:22:39.869384Z",
     "iopub.status.busy": "2024-09-06T07:22:39.868996Z",
     "iopub.status.idle": "2024-09-06T07:22:40.303832Z",
     "shell.execute_reply": "2024-09-06T07:22:40.302924Z",
     "shell.execute_reply.started": "2024-09-06T07:22:39.869337Z"
    }
   },
   "outputs": [
    {
     "data": {
      "text/html": [
       "<div>\n",
       "<style scoped>\n",
       "    .dataframe tbody tr th:only-of-type {\n",
       "        vertical-align: middle;\n",
       "    }\n",
       "\n",
       "    .dataframe tbody tr th {\n",
       "        vertical-align: top;\n",
       "    }\n",
       "\n",
       "    .dataframe thead th {\n",
       "        text-align: right;\n",
       "    }\n",
       "</style>\n",
       "<table border=\"1\" class=\"dataframe\">\n",
       "  <thead>\n",
       "    <tr style=\"text-align: right;\">\n",
       "      <th></th>\n",
       "      <th>FILENAME</th>\n",
       "      <th>IDENTITY</th>\n",
       "    </tr>\n",
       "  </thead>\n",
       "  <tbody>\n",
       "    <tr>\n",
       "      <th>0</th>\n",
       "      <td>TRAIN_00001.jpg</td>\n",
       "      <td>BALTHAZAR</td>\n",
       "    </tr>\n",
       "    <tr>\n",
       "      <th>1</th>\n",
       "      <td>TRAIN_00002.jpg</td>\n",
       "      <td>SIMON</td>\n",
       "    </tr>\n",
       "    <tr>\n",
       "      <th>2</th>\n",
       "      <td>TRAIN_00003.jpg</td>\n",
       "      <td>BENES</td>\n",
       "    </tr>\n",
       "    <tr>\n",
       "      <th>3</th>\n",
       "      <td>TRAIN_00004.jpg</td>\n",
       "      <td>LA LOVE</td>\n",
       "    </tr>\n",
       "    <tr>\n",
       "      <th>4</th>\n",
       "      <td>TRAIN_00005.jpg</td>\n",
       "      <td>DAPHNE</td>\n",
       "    </tr>\n",
       "  </tbody>\n",
       "</table>\n",
       "</div>"
      ],
      "text/plain": [
       "          FILENAME   IDENTITY\n",
       "0  TRAIN_00001.jpg  BALTHAZAR\n",
       "1  TRAIN_00002.jpg      SIMON\n",
       "2  TRAIN_00003.jpg      BENES\n",
       "3  TRAIN_00004.jpg    LA LOVE\n",
       "4  TRAIN_00005.jpg     DAPHNE"
      ]
     },
     "execution_count": 4,
     "metadata": {},
     "output_type": "execute_result"
    }
   ],
   "source": [
    "train = pd.read_csv(train_path)\n",
    "train.head()"
   ]
  },
  {
   "cell_type": "code",
   "execution_count": 69,
   "metadata": {
    "execution": {
     "iopub.execute_input": "2024-09-06T08:57:28.670682Z",
     "iopub.status.busy": "2024-09-06T08:57:28.669751Z",
     "iopub.status.idle": "2024-09-06T08:57:28.675644Z",
     "shell.execute_reply": "2024-09-06T08:57:28.674520Z",
     "shell.execute_reply.started": "2024-09-06T08:57:28.670627Z"
    }
   },
   "outputs": [],
   "source": [
    "train_imgs_path = '/kaggle/input/handwriting-recognitionocr/train_v2/train/'\n",
    "test_imgs_path = '/kaggle/input/handwriting-recognitionocr/test_v2/test/'\n",
    "val_imgs_path = '/kaggle/input/handwriting-recognitionocr/validation_v2/validation/'"
   ]
  },
  {
   "cell_type": "markdown",
   "metadata": {},
   "source": [
    "## Image Preprocessing "
   ]
  },
  {
   "cell_type": "code",
   "execution_count": 70,
   "metadata": {
    "execution": {
     "iopub.execute_input": "2024-09-06T08:57:31.460618Z",
     "iopub.status.busy": "2024-09-06T08:57:31.460223Z",
     "iopub.status.idle": "2024-09-06T08:57:31.466208Z",
     "shell.execute_reply": "2024-09-06T08:57:31.465233Z",
     "shell.execute_reply.started": "2024-09-06T08:57:31.460580Z"
    }
   },
   "outputs": [],
   "source": [
    "def preprocess_image(image_path, target_size=(32, 256)):\n",
    "    \n",
    "    img = cv2.imread(image_path, cv2.IMREAD_GRAYSCALE)\n",
    "    img = cv2.resize(img, target_size)\n",
    "    img = img.astype('float32') / 255.0\n",
    "    img = np.expand_dims(img, axis=-1)\n",
    "    \n",
    "    return img"
   ]
  },
  {
   "cell_type": "code",
   "execution_count": 71,
   "metadata": {
    "execution": {
     "iopub.execute_input": "2024-09-06T08:57:33.085004Z",
     "iopub.status.busy": "2024-09-06T08:57:33.084592Z",
     "iopub.status.idle": "2024-09-06T08:57:33.091018Z",
     "shell.execute_reply": "2024-09-06T08:57:33.090097Z",
     "shell.execute_reply.started": "2024-09-06T08:57:33.084964Z"
    }
   },
   "outputs": [],
   "source": [
    "def read_data(csv_path, images_path, number_of_samples):\n",
    "    labels = []\n",
    "    imgs = []\n",
    "    \n",
    "    csv = pd.read_csv(csv_path)[:number_of_samples]\n",
    "    \n",
    "    for index, row in tqdm(csv.iterrows(), total=csv.shape[0], desc=\"Processing Images\"):\n",
    "        labels.append(row[\"IDENTITY\"])\n",
    "        img_path = images_path + row[\"FILENAME\"]\n",
    "        img = preprocess_image(img_path)\n",
    "        imgs.append(img)\n",
    "    return imgs, labels"
   ]
  },
  {
   "cell_type": "code",
   "execution_count": 72,
   "metadata": {
    "execution": {
     "iopub.execute_input": "2024-09-06T08:57:35.323613Z",
     "iopub.status.busy": "2024-09-06T08:57:35.323223Z",
     "iopub.status.idle": "2024-09-06T08:57:35.327891Z",
     "shell.execute_reply": "2024-09-06T08:57:35.326964Z",
     "shell.execute_reply.started": "2024-09-06T08:57:35.323575Z"
    }
   },
   "outputs": [],
   "source": [
    "train_size = 16000\n",
    "val_size = 8000\n",
    "test_size = 1600"
   ]
  },
  {
   "cell_type": "code",
   "execution_count": 74,
   "metadata": {
    "execution": {
     "iopub.execute_input": "2024-09-06T08:59:07.490103Z",
     "iopub.status.busy": "2024-09-06T08:59:07.489370Z",
     "iopub.status.idle": "2024-09-06T09:00:02.519319Z",
     "shell.execute_reply": "2024-09-06T09:00:02.518400Z",
     "shell.execute_reply.started": "2024-09-06T08:59:07.490060Z"
    }
   },
   "outputs": [
    {
     "name": "stdout",
     "output_type": "stream",
     "text": [
      "train \n",
      "\n"
     ]
    },
    {
     "name": "stderr",
     "output_type": "stream",
     "text": [
      "Processing Images: 100%|██████████| 16000/16000 [00:33<00:00, 484.78it/s]\n"
     ]
    },
    {
     "name": "stdout",
     "output_type": "stream",
     "text": [
      "Number of images: 16000\n",
      "Number of labels 16000\n",
      "Test\n",
      "\n"
     ]
    },
    {
     "name": "stderr",
     "output_type": "stream",
     "text": [
      "Processing Images: 100%|██████████| 1600/1600 [00:03<00:00, 461.29it/s]\n"
     ]
    },
    {
     "name": "stdout",
     "output_type": "stream",
     "text": [
      "Number of images: 1600\n",
      "Number of labels 1600\n",
      "Validation\n",
      "\n"
     ]
    },
    {
     "name": "stderr",
     "output_type": "stream",
     "text": [
      "Processing Images: 100%|██████████| 8000/8000 [00:18<00:00, 439.87it/s]"
     ]
    },
    {
     "name": "stdout",
     "output_type": "stream",
     "text": [
      "Number of images: 8000\n",
      "Number of labels 16000\n"
     ]
    },
    {
     "name": "stderr",
     "output_type": "stream",
     "text": [
      "\n"
     ]
    }
   ],
   "source": [
    "print(\"Train \\n\")\n",
    "train_imgs, train_labels = read_data(train_path, train_imgs_path, train_size)\n",
    "print(f\"Number of images: {len(train_imgs)}\\nNumber of labels {len(train_labels)}\")\n",
    "\n",
    "print(\"\\n Test\\n\")\n",
    "test_imgs, test_labels = read_data(test_path, test_imgs_path, test_size)\n",
    "print(f\"Number of images: {len(test_imgs)}\\nNumber of labels {len(test_labels)}\")\n",
    "\n",
    "print(\"\\n Validation\\n\")\n",
    "val_imgs, val_labels = read_data(val_path, val_imgs_path, val_size)\n",
    "print(f\"Number of images: {len(val_imgs)}\\nNumber of labels {len(train_labels)}\")"
   ]
  },
  {
   "cell_type": "code",
   "execution_count": 56,
   "metadata": {
    "execution": {
     "iopub.execute_input": "2024-09-06T08:21:43.791106Z",
     "iopub.status.busy": "2024-09-06T08:21:43.790663Z",
     "iopub.status.idle": "2024-09-06T08:21:43.799215Z",
     "shell.execute_reply": "2024-09-06T08:21:43.798285Z",
     "shell.execute_reply.started": "2024-09-06T08:21:43.791067Z"
    }
   },
   "outputs": [],
   "source": [
    "train_labels = [str(label) for label in train_labels]\n",
    "test_labels = [str(label) for label in test_labels]\n",
    "val_labels = [str(label) for label in val_labels]"
   ]
  },
  {
   "cell_type": "code",
   "execution_count": 58,
   "metadata": {
    "execution": {
     "iopub.execute_input": "2024-09-06T08:21:47.427198Z",
     "iopub.status.busy": "2024-09-06T08:21:47.426443Z",
     "iopub.status.idle": "2024-09-06T08:21:47.439433Z",
     "shell.execute_reply": "2024-09-06T08:21:47.438472Z",
     "shell.execute_reply.started": "2024-09-06T08:21:47.427158Z"
    }
   },
   "outputs": [
    {
     "name": "stdout",
     "output_type": "stream",
     "text": [
      "Total number of unique characters : 41\n",
      "Unique Characters : \n",
      "{'u', 'K', 'G', 'r', 'F', 'H', 'y', 'Y', \"'\", 'V', 'c', 'E', 'X', 'J', 'L', 'Q', 'C', 'I', 'M', 'U', 's', ' ', 'n', 'p', 'a', 'l', 't', 'N', 'O', 'D', 'e', 'P', 'A', 'S', 'T', '-', 'B', 'W', 'o', 'R', 'Z'}\n"
     ]
    }
   ],
   "source": [
    "unique_chars = set(char for word in train_labels for char in word)\n",
    "n_classes = len(unique_chars)\n",
    "\n",
    "print(f\"Total number of unique characters : {n_classes}\")\n",
    "print(f\"Unique Characters : \\n{unique_chars}\")"
   ]
  },
  {
   "cell_type": "code",
   "execution_count": 59,
   "metadata": {
    "execution": {
     "iopub.execute_input": "2024-09-06T08:21:48.988025Z",
     "iopub.status.busy": "2024-09-06T08:21:48.987191Z",
     "iopub.status.idle": "2024-09-06T08:21:48.992988Z",
     "shell.execute_reply": "2024-09-06T08:21:48.992012Z",
     "shell.execute_reply.started": "2024-09-06T08:21:48.987985Z"
    }
   },
   "outputs": [],
   "source": [
    "## conver char to numerical and vice versa \n",
    "char_to_num = {char: idx for idx, char in enumerate(unique_chars)}\n",
    "num_to_char = {idx: char for char, idx in char_to_num.items()}"
   ]
  },
  {
   "cell_type": "code",
   "execution_count": 60,
   "metadata": {
    "execution": {
     "iopub.execute_input": "2024-09-06T08:21:51.471196Z",
     "iopub.status.busy": "2024-09-06T08:21:51.470473Z",
     "iopub.status.idle": "2024-09-06T08:21:51.475832Z",
     "shell.execute_reply": "2024-09-06T08:21:51.474810Z",
     "shell.execute_reply.started": "2024-09-06T08:21:51.471155Z"
    }
   },
   "outputs": [],
   "source": [
    "def encode_labels(labels):\n",
    "    encoded = [np.array([char_to_num[char] for char in label]) for label in labels]\n",
    "    return encoded"
   ]
  },
  {
   "cell_type": "markdown",
   "metadata": {},
   "source": [
    "## model building "
   ]
  },
  {
   "cell_type": "code",
   "execution_count": 61,
   "metadata": {
    "execution": {
     "iopub.execute_input": "2024-09-06T08:21:53.146847Z",
     "iopub.status.busy": "2024-09-06T08:21:53.146444Z",
     "iopub.status.idle": "2024-09-06T08:21:53.158551Z",
     "shell.execute_reply": "2024-09-06T08:21:53.157458Z",
     "shell.execute_reply.started": "2024-09-06T08:21:53.146806Z"
    }
   },
   "outputs": [],
   "source": [
    "def ocr(input_shape, output_dim):\n",
    "    input_img = Input(shape=input_shape, name='image_input')\n",
    "    \n",
    "    x = Conv2D(32, (3, 3), activation='relu', padding='same')(input_img)\n",
    "    x = MaxPooling2D(pool_size=(2, 2))(x)\n",
    "    x = Conv2D(64, (3, 3), activation='relu', padding='same')(x)\n",
    "    x = MaxPooling2D(pool_size=(2, 2))(x)\n",
    "    x = Conv2D(128, (3, 3), activation='relu', padding='same')(x)\n",
    "    x = MaxPooling2D(pool_size=(2, 2))(x)\n",
    "    \n",
    "    new_shape = ((input_shape[0] // 8), (input_shape[1] // 8) * 128)\n",
    "    x = Reshape(target_shape=new_shape)(x)\n",
    "    \n",
    "    x = Bidirectional(LSTM(256, return_sequences=True))(x)\n",
    "    x = Bidirectional(LSTM(256, return_sequences=True))(x)\n",
    "    \n",
    "    output = Dense(output_dim, activation='softmax', name='dense_output')(x)\n",
    "    \n",
    "    labels = Input(shape=(None,), name='labels', dtype='float32')\n",
    "    input_length = Input(shape=(1,), name='input_length', dtype='int64')\n",
    "    label_length = Input(shape=(1,), name='label_length', dtype='int64')\n",
    "    \n",
    "    def ctc_loss_lambda(inputs):\n",
    "        y_true, y_pred, input_length, label_length = inputs\n",
    "        return K.ctc_batch_cost(y_true, y_pred, input_length, label_length)\n",
    "    \n",
    "    loss_out = Lambda(ctc_loss_lambda, output_shape=(1,))([labels, output, input_length, label_length])\n",
    "    \n",
    "    model = Model(inputs=[input_img, labels, input_length, label_length], outputs=loss_out)\n",
    "    model.compile(optimizer='adam', loss=lambda y_true, y_pred: y_pred)\n",
    "    \n",
    "    return model"
   ]
  },
  {
   "cell_type": "code",
   "execution_count": 64,
   "metadata": {
    "execution": {
     "iopub.execute_input": "2024-09-06T08:23:20.275574Z",
     "iopub.status.busy": "2024-09-06T08:23:20.274599Z",
     "iopub.status.idle": "2024-09-06T08:23:20.285749Z",
     "shell.execute_reply": "2024-09-06T08:23:20.284760Z",
     "shell.execute_reply.started": "2024-09-06T08:23:20.275518Z"
    }
   },
   "outputs": [],
   "source": [
    "train_input_length = np.full((len(train_imgs), 1), train_imgs.shape[1] // 8, dtype=int)\n",
    "val_input_length = np.full((len(val_imgs), 1), val_imgs.shape[1] // 8, dtype=int)\n",
    "\n",
    "train_label_length = np.array([len(label) for label in train_labels_encoded], dtype=int).reshape(-1, 1)\n",
    "val_label_length = np.array([len(label) for label in val_labels_encoded], dtype=int).reshape(-1, 1)"
   ]
  },
  {
   "cell_type": "code",
   "execution_count": 46,
   "metadata": {
    "execution": {
     "iopub.execute_input": "2024-09-06T08:02:59.011203Z",
     "iopub.status.busy": "2024-09-06T08:02:59.010803Z",
     "iopub.status.idle": "2024-09-06T08:02:59.242232Z",
     "shell.execute_reply": "2024-09-06T08:02:59.241357Z",
     "shell.execute_reply.started": "2024-09-06T08:02:59.011167Z"
    }
   },
   "outputs": [
    {
     "data": {
      "text/html": [
       "<pre style=\"white-space:pre;overflow-x:auto;line-height:normal;font-family:Menlo,'DejaVu Sans Mono',consolas,'Courier New',monospace\"><span style=\"font-weight: bold\">Model: \"functional_3\"</span>\n",
       "</pre>\n"
      ],
      "text/plain": [
       "\u001b[1mModel: \"functional_3\"\u001b[0m\n"
      ]
     },
     "metadata": {},
     "output_type": "display_data"
    },
    {
     "data": {
      "text/html": [
       "<pre style=\"white-space:pre;overflow-x:auto;line-height:normal;font-family:Menlo,'DejaVu Sans Mono',consolas,'Courier New',monospace\">┏━━━━━━━━━━━━━━━━━━━━━┳━━━━━━━━━━━━━━━━━━━┳━━━━━━━━━━━━┳━━━━━━━━━━━━━━━━━━━┓\n",
       "┃<span style=\"font-weight: bold\"> Layer (type)        </span>┃<span style=\"font-weight: bold\"> Output Shape      </span>┃<span style=\"font-weight: bold\">    Param # </span>┃<span style=\"font-weight: bold\"> Connected to      </span>┃\n",
       "┡━━━━━━━━━━━━━━━━━━━━━╇━━━━━━━━━━━━━━━━━━━╇━━━━━━━━━━━━╇━━━━━━━━━━━━━━━━━━━┩\n",
       "│ image_input         │ (<span style=\"color: #00d7ff; text-decoration-color: #00d7ff\">None</span>, <span style=\"color: #00af00; text-decoration-color: #00af00\">256</span>, <span style=\"color: #00af00; text-decoration-color: #00af00\">32</span>,   │          <span style=\"color: #00af00; text-decoration-color: #00af00\">0</span> │ -                 │\n",
       "│ (<span style=\"color: #0087ff; text-decoration-color: #0087ff\">InputLayer</span>)        │ <span style=\"color: #00af00; text-decoration-color: #00af00\">1</span>)                │            │                   │\n",
       "├─────────────────────┼───────────────────┼────────────┼───────────────────┤\n",
       "│ conv2d_3 (<span style=\"color: #0087ff; text-decoration-color: #0087ff\">Conv2D</span>)   │ (<span style=\"color: #00d7ff; text-decoration-color: #00d7ff\">None</span>, <span style=\"color: #00af00; text-decoration-color: #00af00\">256</span>, <span style=\"color: #00af00; text-decoration-color: #00af00\">32</span>,   │        <span style=\"color: #00af00; text-decoration-color: #00af00\">320</span> │ image_input[<span style=\"color: #00af00; text-decoration-color: #00af00\">0</span>][<span style=\"color: #00af00; text-decoration-color: #00af00\">0</span>] │\n",
       "│                     │ <span style=\"color: #00af00; text-decoration-color: #00af00\">32</span>)               │            │                   │\n",
       "├─────────────────────┼───────────────────┼────────────┼───────────────────┤\n",
       "│ max_pooling2d_3     │ (<span style=\"color: #00d7ff; text-decoration-color: #00d7ff\">None</span>, <span style=\"color: #00af00; text-decoration-color: #00af00\">128</span>, <span style=\"color: #00af00; text-decoration-color: #00af00\">16</span>,   │          <span style=\"color: #00af00; text-decoration-color: #00af00\">0</span> │ conv2d_3[<span style=\"color: #00af00; text-decoration-color: #00af00\">0</span>][<span style=\"color: #00af00; text-decoration-color: #00af00\">0</span>]    │\n",
       "│ (<span style=\"color: #0087ff; text-decoration-color: #0087ff\">MaxPooling2D</span>)      │ <span style=\"color: #00af00; text-decoration-color: #00af00\">32</span>)               │            │                   │\n",
       "├─────────────────────┼───────────────────┼────────────┼───────────────────┤\n",
       "│ conv2d_4 (<span style=\"color: #0087ff; text-decoration-color: #0087ff\">Conv2D</span>)   │ (<span style=\"color: #00d7ff; text-decoration-color: #00d7ff\">None</span>, <span style=\"color: #00af00; text-decoration-color: #00af00\">128</span>, <span style=\"color: #00af00; text-decoration-color: #00af00\">16</span>,   │     <span style=\"color: #00af00; text-decoration-color: #00af00\">18,496</span> │ max_pooling2d_3[<span style=\"color: #00af00; text-decoration-color: #00af00\">…</span> │\n",
       "│                     │ <span style=\"color: #00af00; text-decoration-color: #00af00\">64</span>)               │            │                   │\n",
       "├─────────────────────┼───────────────────┼────────────┼───────────────────┤\n",
       "│ max_pooling2d_4     │ (<span style=\"color: #00d7ff; text-decoration-color: #00d7ff\">None</span>, <span style=\"color: #00af00; text-decoration-color: #00af00\">64</span>, <span style=\"color: #00af00; text-decoration-color: #00af00\">8</span>, <span style=\"color: #00af00; text-decoration-color: #00af00\">64</span>) │          <span style=\"color: #00af00; text-decoration-color: #00af00\">0</span> │ conv2d_4[<span style=\"color: #00af00; text-decoration-color: #00af00\">0</span>][<span style=\"color: #00af00; text-decoration-color: #00af00\">0</span>]    │\n",
       "│ (<span style=\"color: #0087ff; text-decoration-color: #0087ff\">MaxPooling2D</span>)      │                   │            │                   │\n",
       "├─────────────────────┼───────────────────┼────────────┼───────────────────┤\n",
       "│ conv2d_5 (<span style=\"color: #0087ff; text-decoration-color: #0087ff\">Conv2D</span>)   │ (<span style=\"color: #00d7ff; text-decoration-color: #00d7ff\">None</span>, <span style=\"color: #00af00; text-decoration-color: #00af00\">64</span>, <span style=\"color: #00af00; text-decoration-color: #00af00\">8</span>,     │     <span style=\"color: #00af00; text-decoration-color: #00af00\">73,856</span> │ max_pooling2d_4[<span style=\"color: #00af00; text-decoration-color: #00af00\">…</span> │\n",
       "│                     │ <span style=\"color: #00af00; text-decoration-color: #00af00\">128</span>)              │            │                   │\n",
       "├─────────────────────┼───────────────────┼────────────┼───────────────────┤\n",
       "│ max_pooling2d_5     │ (<span style=\"color: #00d7ff; text-decoration-color: #00d7ff\">None</span>, <span style=\"color: #00af00; text-decoration-color: #00af00\">32</span>, <span style=\"color: #00af00; text-decoration-color: #00af00\">4</span>,     │          <span style=\"color: #00af00; text-decoration-color: #00af00\">0</span> │ conv2d_5[<span style=\"color: #00af00; text-decoration-color: #00af00\">0</span>][<span style=\"color: #00af00; text-decoration-color: #00af00\">0</span>]    │\n",
       "│ (<span style=\"color: #0087ff; text-decoration-color: #0087ff\">MaxPooling2D</span>)      │ <span style=\"color: #00af00; text-decoration-color: #00af00\">128</span>)              │            │                   │\n",
       "├─────────────────────┼───────────────────┼────────────┼───────────────────┤\n",
       "│ reshape_1 (<span style=\"color: #0087ff; text-decoration-color: #0087ff\">Reshape</span>) │ (<span style=\"color: #00d7ff; text-decoration-color: #00d7ff\">None</span>, <span style=\"color: #00af00; text-decoration-color: #00af00\">32</span>, <span style=\"color: #00af00; text-decoration-color: #00af00\">512</span>)   │          <span style=\"color: #00af00; text-decoration-color: #00af00\">0</span> │ max_pooling2d_5[<span style=\"color: #00af00; text-decoration-color: #00af00\">…</span> │\n",
       "├─────────────────────┼───────────────────┼────────────┼───────────────────┤\n",
       "│ bidirectional_2     │ (<span style=\"color: #00d7ff; text-decoration-color: #00d7ff\">None</span>, <span style=\"color: #00af00; text-decoration-color: #00af00\">32</span>, <span style=\"color: #00af00; text-decoration-color: #00af00\">512</span>)   │  <span style=\"color: #00af00; text-decoration-color: #00af00\">1,574,912</span> │ reshape_1[<span style=\"color: #00af00; text-decoration-color: #00af00\">0</span>][<span style=\"color: #00af00; text-decoration-color: #00af00\">0</span>]   │\n",
       "│ (<span style=\"color: #0087ff; text-decoration-color: #0087ff\">Bidirectional</span>)     │                   │            │                   │\n",
       "├─────────────────────┼───────────────────┼────────────┼───────────────────┤\n",
       "│ bidirectional_3     │ (<span style=\"color: #00d7ff; text-decoration-color: #00d7ff\">None</span>, <span style=\"color: #00af00; text-decoration-color: #00af00\">32</span>, <span style=\"color: #00af00; text-decoration-color: #00af00\">512</span>)   │  <span style=\"color: #00af00; text-decoration-color: #00af00\">1,574,912</span> │ bidirectional_2[<span style=\"color: #00af00; text-decoration-color: #00af00\">…</span> │\n",
       "│ (<span style=\"color: #0087ff; text-decoration-color: #0087ff\">Bidirectional</span>)     │                   │            │                   │\n",
       "├─────────────────────┼───────────────────┼────────────┼───────────────────┤\n",
       "│ labels (<span style=\"color: #0087ff; text-decoration-color: #0087ff\">InputLayer</span>) │ (<span style=\"color: #00d7ff; text-decoration-color: #00d7ff\">None</span>, <span style=\"color: #00d7ff; text-decoration-color: #00d7ff\">None</span>)      │          <span style=\"color: #00af00; text-decoration-color: #00af00\">0</span> │ -                 │\n",
       "├─────────────────────┼───────────────────┼────────────┼───────────────────┤\n",
       "│ dense_output        │ (<span style=\"color: #00d7ff; text-decoration-color: #00d7ff\">None</span>, <span style=\"color: #00af00; text-decoration-color: #00af00\">32</span>, <span style=\"color: #00af00; text-decoration-color: #00af00\">42</span>)    │     <span style=\"color: #00af00; text-decoration-color: #00af00\">21,546</span> │ bidirectional_3[<span style=\"color: #00af00; text-decoration-color: #00af00\">…</span> │\n",
       "│ (<span style=\"color: #0087ff; text-decoration-color: #0087ff\">Dense</span>)             │                   │            │                   │\n",
       "├─────────────────────┼───────────────────┼────────────┼───────────────────┤\n",
       "│ input_length        │ (<span style=\"color: #00d7ff; text-decoration-color: #00d7ff\">None</span>, <span style=\"color: #00af00; text-decoration-color: #00af00\">1</span>)         │          <span style=\"color: #00af00; text-decoration-color: #00af00\">0</span> │ -                 │\n",
       "│ (<span style=\"color: #0087ff; text-decoration-color: #0087ff\">InputLayer</span>)        │                   │            │                   │\n",
       "├─────────────────────┼───────────────────┼────────────┼───────────────────┤\n",
       "│ label_length        │ (<span style=\"color: #00d7ff; text-decoration-color: #00d7ff\">None</span>, <span style=\"color: #00af00; text-decoration-color: #00af00\">1</span>)         │          <span style=\"color: #00af00; text-decoration-color: #00af00\">0</span> │ -                 │\n",
       "│ (<span style=\"color: #0087ff; text-decoration-color: #0087ff\">InputLayer</span>)        │                   │            │                   │\n",
       "├─────────────────────┼───────────────────┼────────────┼───────────────────┤\n",
       "│ lambda_1 (<span style=\"color: #0087ff; text-decoration-color: #0087ff\">Lambda</span>)   │ (<span style=\"color: #00d7ff; text-decoration-color: #00d7ff\">None</span>, <span style=\"color: #00af00; text-decoration-color: #00af00\">1</span>)         │          <span style=\"color: #00af00; text-decoration-color: #00af00\">0</span> │ labels[<span style=\"color: #00af00; text-decoration-color: #00af00\">0</span>][<span style=\"color: #00af00; text-decoration-color: #00af00\">0</span>],     │\n",
       "│                     │                   │            │ dense_output[<span style=\"color: #00af00; text-decoration-color: #00af00\">0</span>][<span style=\"color: #00af00; text-decoration-color: #00af00\">…</span> │\n",
       "│                     │                   │            │ input_length[<span style=\"color: #00af00; text-decoration-color: #00af00\">0</span>][<span style=\"color: #00af00; text-decoration-color: #00af00\">…</span> │\n",
       "│                     │                   │            │ label_length[<span style=\"color: #00af00; text-decoration-color: #00af00\">0</span>][<span style=\"color: #00af00; text-decoration-color: #00af00\">…</span> │\n",
       "└─────────────────────┴───────────────────┴────────────┴───────────────────┘\n",
       "</pre>\n"
      ],
      "text/plain": [
       "┏━━━━━━━━━━━━━━━━━━━━━┳━━━━━━━━━━━━━━━━━━━┳━━━━━━━━━━━━┳━━━━━━━━━━━━━━━━━━━┓\n",
       "┃\u001b[1m \u001b[0m\u001b[1mLayer (type)       \u001b[0m\u001b[1m \u001b[0m┃\u001b[1m \u001b[0m\u001b[1mOutput Shape     \u001b[0m\u001b[1m \u001b[0m┃\u001b[1m \u001b[0m\u001b[1m   Param #\u001b[0m\u001b[1m \u001b[0m┃\u001b[1m \u001b[0m\u001b[1mConnected to     \u001b[0m\u001b[1m \u001b[0m┃\n",
       "┡━━━━━━━━━━━━━━━━━━━━━╇━━━━━━━━━━━━━━━━━━━╇━━━━━━━━━━━━╇━━━━━━━━━━━━━━━━━━━┩\n",
       "│ image_input         │ (\u001b[38;5;45mNone\u001b[0m, \u001b[38;5;34m256\u001b[0m, \u001b[38;5;34m32\u001b[0m,   │          \u001b[38;5;34m0\u001b[0m │ -                 │\n",
       "│ (\u001b[38;5;33mInputLayer\u001b[0m)        │ \u001b[38;5;34m1\u001b[0m)                │            │                   │\n",
       "├─────────────────────┼───────────────────┼────────────┼───────────────────┤\n",
       "│ conv2d_3 (\u001b[38;5;33mConv2D\u001b[0m)   │ (\u001b[38;5;45mNone\u001b[0m, \u001b[38;5;34m256\u001b[0m, \u001b[38;5;34m32\u001b[0m,   │        \u001b[38;5;34m320\u001b[0m │ image_input[\u001b[38;5;34m0\u001b[0m][\u001b[38;5;34m0\u001b[0m] │\n",
       "│                     │ \u001b[38;5;34m32\u001b[0m)               │            │                   │\n",
       "├─────────────────────┼───────────────────┼────────────┼───────────────────┤\n",
       "│ max_pooling2d_3     │ (\u001b[38;5;45mNone\u001b[0m, \u001b[38;5;34m128\u001b[0m, \u001b[38;5;34m16\u001b[0m,   │          \u001b[38;5;34m0\u001b[0m │ conv2d_3[\u001b[38;5;34m0\u001b[0m][\u001b[38;5;34m0\u001b[0m]    │\n",
       "│ (\u001b[38;5;33mMaxPooling2D\u001b[0m)      │ \u001b[38;5;34m32\u001b[0m)               │            │                   │\n",
       "├─────────────────────┼───────────────────┼────────────┼───────────────────┤\n",
       "│ conv2d_4 (\u001b[38;5;33mConv2D\u001b[0m)   │ (\u001b[38;5;45mNone\u001b[0m, \u001b[38;5;34m128\u001b[0m, \u001b[38;5;34m16\u001b[0m,   │     \u001b[38;5;34m18,496\u001b[0m │ max_pooling2d_3[\u001b[38;5;34m…\u001b[0m │\n",
       "│                     │ \u001b[38;5;34m64\u001b[0m)               │            │                   │\n",
       "├─────────────────────┼───────────────────┼────────────┼───────────────────┤\n",
       "│ max_pooling2d_4     │ (\u001b[38;5;45mNone\u001b[0m, \u001b[38;5;34m64\u001b[0m, \u001b[38;5;34m8\u001b[0m, \u001b[38;5;34m64\u001b[0m) │          \u001b[38;5;34m0\u001b[0m │ conv2d_4[\u001b[38;5;34m0\u001b[0m][\u001b[38;5;34m0\u001b[0m]    │\n",
       "│ (\u001b[38;5;33mMaxPooling2D\u001b[0m)      │                   │            │                   │\n",
       "├─────────────────────┼───────────────────┼────────────┼───────────────────┤\n",
       "│ conv2d_5 (\u001b[38;5;33mConv2D\u001b[0m)   │ (\u001b[38;5;45mNone\u001b[0m, \u001b[38;5;34m64\u001b[0m, \u001b[38;5;34m8\u001b[0m,     │     \u001b[38;5;34m73,856\u001b[0m │ max_pooling2d_4[\u001b[38;5;34m…\u001b[0m │\n",
       "│                     │ \u001b[38;5;34m128\u001b[0m)              │            │                   │\n",
       "├─────────────────────┼───────────────────┼────────────┼───────────────────┤\n",
       "│ max_pooling2d_5     │ (\u001b[38;5;45mNone\u001b[0m, \u001b[38;5;34m32\u001b[0m, \u001b[38;5;34m4\u001b[0m,     │          \u001b[38;5;34m0\u001b[0m │ conv2d_5[\u001b[38;5;34m0\u001b[0m][\u001b[38;5;34m0\u001b[0m]    │\n",
       "│ (\u001b[38;5;33mMaxPooling2D\u001b[0m)      │ \u001b[38;5;34m128\u001b[0m)              │            │                   │\n",
       "├─────────────────────┼───────────────────┼────────────┼───────────────────┤\n",
       "│ reshape_1 (\u001b[38;5;33mReshape\u001b[0m) │ (\u001b[38;5;45mNone\u001b[0m, \u001b[38;5;34m32\u001b[0m, \u001b[38;5;34m512\u001b[0m)   │          \u001b[38;5;34m0\u001b[0m │ max_pooling2d_5[\u001b[38;5;34m…\u001b[0m │\n",
       "├─────────────────────┼───────────────────┼────────────┼───────────────────┤\n",
       "│ bidirectional_2     │ (\u001b[38;5;45mNone\u001b[0m, \u001b[38;5;34m32\u001b[0m, \u001b[38;5;34m512\u001b[0m)   │  \u001b[38;5;34m1,574,912\u001b[0m │ reshape_1[\u001b[38;5;34m0\u001b[0m][\u001b[38;5;34m0\u001b[0m]   │\n",
       "│ (\u001b[38;5;33mBidirectional\u001b[0m)     │                   │            │                   │\n",
       "├─────────────────────┼───────────────────┼────────────┼───────────────────┤\n",
       "│ bidirectional_3     │ (\u001b[38;5;45mNone\u001b[0m, \u001b[38;5;34m32\u001b[0m, \u001b[38;5;34m512\u001b[0m)   │  \u001b[38;5;34m1,574,912\u001b[0m │ bidirectional_2[\u001b[38;5;34m…\u001b[0m │\n",
       "│ (\u001b[38;5;33mBidirectional\u001b[0m)     │                   │            │                   │\n",
       "├─────────────────────┼───────────────────┼────────────┼───────────────────┤\n",
       "│ labels (\u001b[38;5;33mInputLayer\u001b[0m) │ (\u001b[38;5;45mNone\u001b[0m, \u001b[38;5;45mNone\u001b[0m)      │          \u001b[38;5;34m0\u001b[0m │ -                 │\n",
       "├─────────────────────┼───────────────────┼────────────┼───────────────────┤\n",
       "│ dense_output        │ (\u001b[38;5;45mNone\u001b[0m, \u001b[38;5;34m32\u001b[0m, \u001b[38;5;34m42\u001b[0m)    │     \u001b[38;5;34m21,546\u001b[0m │ bidirectional_3[\u001b[38;5;34m…\u001b[0m │\n",
       "│ (\u001b[38;5;33mDense\u001b[0m)             │                   │            │                   │\n",
       "├─────────────────────┼───────────────────┼────────────┼───────────────────┤\n",
       "│ input_length        │ (\u001b[38;5;45mNone\u001b[0m, \u001b[38;5;34m1\u001b[0m)         │          \u001b[38;5;34m0\u001b[0m │ -                 │\n",
       "│ (\u001b[38;5;33mInputLayer\u001b[0m)        │                   │            │                   │\n",
       "├─────────────────────┼───────────────────┼────────────┼───────────────────┤\n",
       "│ label_length        │ (\u001b[38;5;45mNone\u001b[0m, \u001b[38;5;34m1\u001b[0m)         │          \u001b[38;5;34m0\u001b[0m │ -                 │\n",
       "│ (\u001b[38;5;33mInputLayer\u001b[0m)        │                   │            │                   │\n",
       "├─────────────────────┼───────────────────┼────────────┼───────────────────┤\n",
       "│ lambda_1 (\u001b[38;5;33mLambda\u001b[0m)   │ (\u001b[38;5;45mNone\u001b[0m, \u001b[38;5;34m1\u001b[0m)         │          \u001b[38;5;34m0\u001b[0m │ labels[\u001b[38;5;34m0\u001b[0m][\u001b[38;5;34m0\u001b[0m],     │\n",
       "│                     │                   │            │ dense_output[\u001b[38;5;34m0\u001b[0m][\u001b[38;5;34m…\u001b[0m │\n",
       "│                     │                   │            │ input_length[\u001b[38;5;34m0\u001b[0m][\u001b[38;5;34m…\u001b[0m │\n",
       "│                     │                   │            │ label_length[\u001b[38;5;34m0\u001b[0m][\u001b[38;5;34m…\u001b[0m │\n",
       "└─────────────────────┴───────────────────┴────────────┴───────────────────┘\n"
      ]
     },
     "metadata": {},
     "output_type": "display_data"
    },
    {
     "data": {
      "text/html": [
       "<pre style=\"white-space:pre;overflow-x:auto;line-height:normal;font-family:Menlo,'DejaVu Sans Mono',consolas,'Courier New',monospace\"><span style=\"font-weight: bold\"> Total params: </span><span style=\"color: #00af00; text-decoration-color: #00af00\">3,264,042</span> (12.45 MB)\n",
       "</pre>\n"
      ],
      "text/plain": [
       "\u001b[1m Total params: \u001b[0m\u001b[38;5;34m3,264,042\u001b[0m (12.45 MB)\n"
      ]
     },
     "metadata": {},
     "output_type": "display_data"
    },
    {
     "data": {
      "text/html": [
       "<pre style=\"white-space:pre;overflow-x:auto;line-height:normal;font-family:Menlo,'DejaVu Sans Mono',consolas,'Courier New',monospace\"><span style=\"font-weight: bold\"> Trainable params: </span><span style=\"color: #00af00; text-decoration-color: #00af00\">3,264,042</span> (12.45 MB)\n",
       "</pre>\n"
      ],
      "text/plain": [
       "\u001b[1m Trainable params: \u001b[0m\u001b[38;5;34m3,264,042\u001b[0m (12.45 MB)\n"
      ]
     },
     "metadata": {},
     "output_type": "display_data"
    },
    {
     "data": {
      "text/html": [
       "<pre style=\"white-space:pre;overflow-x:auto;line-height:normal;font-family:Menlo,'DejaVu Sans Mono',consolas,'Courier New',monospace\"><span style=\"font-weight: bold\"> Non-trainable params: </span><span style=\"color: #00af00; text-decoration-color: #00af00\">0</span> (0.00 B)\n",
       "</pre>\n"
      ],
      "text/plain": [
       "\u001b[1m Non-trainable params: \u001b[0m\u001b[38;5;34m0\u001b[0m (0.00 B)\n"
      ]
     },
     "metadata": {},
     "output_type": "display_data"
    }
   ],
   "source": [
    "input_shape = train_imgs[0].shape\n",
    "output_dim = n_classes + 1\n",
    "model = ocr(input_shape, output_dim)\n",
    "model.summary()"
   ]
  },
  {
   "cell_type": "code",
   "execution_count": 36,
   "metadata": {
    "execution": {
     "iopub.execute_input": "2024-09-06T08:00:49.107694Z",
     "iopub.status.busy": "2024-09-06T08:00:49.106811Z",
     "iopub.status.idle": "2024-09-06T08:00:49.173102Z",
     "shell.execute_reply": "2024-09-06T08:00:49.172392Z",
     "shell.execute_reply.started": "2024-09-06T08:00:49.107652Z"
    }
   },
   "outputs": [],
   "source": [
    "train_labels_encoded = encode_labels(train_labels)\n",
    "test_labels_encoded = encode_labels(test_labels)\n",
    "val_labels_encoded = encode_labels(val_labels)"
   ]
  },
  {
   "cell_type": "code",
   "execution_count": 47,
   "metadata": {
    "execution": {
     "iopub.execute_input": "2024-09-06T08:03:35.650224Z",
     "iopub.status.busy": "2024-09-06T08:03:35.649549Z",
     "iopub.status.idle": "2024-09-06T08:03:35.655154Z",
     "shell.execute_reply": "2024-09-06T08:03:35.654286Z",
     "shell.execute_reply.started": "2024-09-06T08:03:35.650183Z"
    }
   },
   "outputs": [
    {
     "name": "stdout",
     "output_type": "stream",
     "text": [
      "Number of training images: 16000\n",
      "Number of training labels: 16000\n"
     ]
    }
   ],
   "source": [
    "print(f\"Number of training images: {len(train_imgs)}\")\n",
    "print(f\"Number of training labels: {len(train_labels_encoded)}\")"
   ]
  },
  {
   "cell_type": "code",
   "execution_count": 48,
   "metadata": {
    "execution": {
     "iopub.execute_input": "2024-09-06T08:03:55.136929Z",
     "iopub.status.busy": "2024-09-06T08:03:55.136549Z",
     "iopub.status.idle": "2024-09-06T08:03:55.399278Z",
     "shell.execute_reply": "2024-09-06T08:03:55.398321Z",
     "shell.execute_reply.started": "2024-09-06T08:03:55.136883Z"
    }
   },
   "outputs": [
    {
     "name": "stdout",
     "output_type": "stream",
     "text": [
      "Shape of training images: (16000, 256, 32, 1)\n",
      "Shape of validation images: (8000, 256, 32, 1)\n",
      "Shape of a single image: (256, 32, 1)\n"
     ]
    }
   ],
   "source": [
    "train_imgs = np.array(train_imgs)\n",
    "val_imgs = np.array(val_imgs)\n",
    "\n",
    "print(f\"Shape of training images: {train_imgs.shape}\")\n",
    "print(f\"Shape of validation images: {val_imgs.shape}\")\n",
    "print(f\"Shape of a single image: {train_imgs[0].shape}\")"
   ]
  },
  {
   "cell_type": "code",
   "execution_count": 49,
   "metadata": {
    "execution": {
     "iopub.execute_input": "2024-09-06T08:04:12.694630Z",
     "iopub.status.busy": "2024-09-06T08:04:12.694225Z",
     "iopub.status.idle": "2024-09-06T08:04:12.703682Z",
     "shell.execute_reply": "2024-09-06T08:04:12.702566Z",
     "shell.execute_reply.started": "2024-09-06T08:04:12.694589Z"
    }
   },
   "outputs": [
    {
     "data": {
      "text/plain": [
       "24"
      ]
     },
     "execution_count": 49,
     "metadata": {},
     "output_type": "execute_result"
    }
   ],
   "source": [
    "max_label_length = max(len(label) for label in train_labels_encoded)\n",
    "max_label_length"
   ]
  },
  {
   "cell_type": "code",
   "execution_count": 51,
   "metadata": {
    "execution": {
     "iopub.execute_input": "2024-09-06T08:04:40.444442Z",
     "iopub.status.busy": "2024-09-06T08:04:40.443781Z",
     "iopub.status.idle": "2024-09-06T08:04:40.536144Z",
     "shell.execute_reply": "2024-09-06T08:04:40.535216Z",
     "shell.execute_reply.started": "2024-09-06T08:04:40.444401Z"
    }
   },
   "outputs": [],
   "source": [
    "train_labels_encoded_padded = pad_sequences(train_labels_encoded, maxlen=max_label_length, padding='post')\n",
    "val_labels_encoded_padded = pad_sequences(val_labels_encoded, maxlen=max_label_length, padding='post')"
   ]
  },
  {
   "cell_type": "code",
   "execution_count": 52,
   "metadata": {
    "execution": {
     "iopub.execute_input": "2024-09-06T08:05:06.078344Z",
     "iopub.status.busy": "2024-09-06T08:05:06.077451Z",
     "iopub.status.idle": "2024-09-06T08:05:06.084730Z",
     "shell.execute_reply": "2024-09-06T08:05:06.083799Z",
     "shell.execute_reply.started": "2024-09-06T08:05:06.078295Z"
    }
   },
   "outputs": [
    {
     "name": "stdout",
     "output_type": "stream",
     "text": [
      "Shape of padded training labels: (16000, 24)\n",
      "First few padded training labels: [[36 32 14 34  5 32 40 32 39  0  0  0  0  0  0  0  0  0  0  0  0  0  0  0]\n",
      " [33 17 18 28 27  0  0  0  0  0  0  0  0  0  0  0  0  0  0  0  0  0  0  0]\n",
      " [36 11 27 11 33  0  0  0  0  0  0  0  0  0  0  0  0  0  0  0  0  0  0  0]\n",
      " [14 32 21 14 28  9 11  0  0  0  0  0  0  0  0  0  0  0  0  0  0  0  0  0]\n",
      " [29 32 31  5 27 11  0  0  0  0  0  0  0  0  0  0  0  0  0  0  0  0  0  0]]\n",
      "Shape of padded validation labels: (8000, 24)\n",
      "First few padded validation labels: [[36 17 14 11 14  0  0  0  0  0  0  0  0  0  0  0  0  0  0  0  0  0  0  0]\n",
      " [14 32 19 18 17 28 27 17 11 39  0  0  0  0  0  0  0  0  0  0  0  0  0  0]\n",
      " [14 11 32  0  0  0  0  0  0  0  0  0  0  0  0  0  0  0  0  0  0  0  0  0]\n",
      " [13 11 32 27 35 39 28 16  5  0  0  0  0  0  0  0  0  0  0  0  0  0  0  0]\n",
      " [39 19 31 31  0  0  0  0  0  0  0  0  0  0  0  0  0  0  0  0  0  0  0  0]]\n"
     ]
    }
   ],
   "source": [
    "print(f\"Shape of padded training labels: {train_labels_encoded_padded.shape}\")\n",
    "print(f\"First few padded training labels: {train_labels_encoded_padded[:5]}\")\n",
    "print(f\"Shape of padded validation labels: {val_labels_encoded_padded.shape}\")\n",
    "print(f\"First few padded validation labels: {val_labels_encoded_padded[:5]}\")"
   ]
  },
  {
   "cell_type": "code",
   "execution_count": 65,
   "metadata": {
    "execution": {
     "iopub.execute_input": "2024-09-06T08:23:24.854023Z",
     "iopub.status.busy": "2024-09-06T08:23:24.853641Z",
     "iopub.status.idle": "2024-09-06T08:29:29.074703Z",
     "shell.execute_reply": "2024-09-06T08:29:29.073812Z",
     "shell.execute_reply.started": "2024-09-06T08:23:24.853990Z"
    }
   },
   "outputs": [
    {
     "name": "stdout",
     "output_type": "stream",
     "text": [
      "Epoch 1/20\n",
      "\u001b[1m250/250\u001b[0m \u001b[32m━━━━━━━━━━━━━━━━━━━━\u001b[0m\u001b[37m\u001b[0m \u001b[1m25s\u001b[0m 77ms/step - loss: 25.0831 - val_loss: 20.2184\n",
      "Epoch 2/20\n",
      "\u001b[1m250/250\u001b[0m \u001b[32m━━━━━━━━━━━━━━━━━━━━\u001b[0m\u001b[37m\u001b[0m \u001b[1m18s\u001b[0m 71ms/step - loss: 19.7667 - val_loss: 19.0614\n",
      "Epoch 3/20\n",
      "\u001b[1m250/250\u001b[0m \u001b[32m━━━━━━━━━━━━━━━━━━━━\u001b[0m\u001b[37m\u001b[0m \u001b[1m18s\u001b[0m 71ms/step - loss: 18.8101 - val_loss: 18.7302\n",
      "Epoch 4/20\n",
      "\u001b[1m250/250\u001b[0m \u001b[32m━━━━━━━━━━━━━━━━━━━━\u001b[0m\u001b[37m\u001b[0m \u001b[1m18s\u001b[0m 71ms/step - loss: 18.5414 - val_loss: 18.5621\n",
      "Epoch 5/20\n",
      "\u001b[1m250/250\u001b[0m \u001b[32m━━━━━━━━━━━━━━━━━━━━\u001b[0m\u001b[37m\u001b[0m \u001b[1m18s\u001b[0m 71ms/step - loss: 18.4231 - val_loss: 18.3501\n",
      "Epoch 6/20\n",
      "\u001b[1m250/250\u001b[0m \u001b[32m━━━━━━━━━━━━━━━━━━━━\u001b[0m\u001b[37m\u001b[0m \u001b[1m18s\u001b[0m 71ms/step - loss: 18.2545 - val_loss: 18.2712\n",
      "Epoch 7/20\n",
      "\u001b[1m250/250\u001b[0m \u001b[32m━━━━━━━━━━━━━━━━━━━━\u001b[0m\u001b[37m\u001b[0m \u001b[1m18s\u001b[0m 71ms/step - loss: 17.9243 - val_loss: 18.0756\n",
      "Epoch 8/20\n",
      "\u001b[1m250/250\u001b[0m \u001b[32m━━━━━━━━━━━━━━━━━━━━\u001b[0m\u001b[37m\u001b[0m \u001b[1m18s\u001b[0m 71ms/step - loss: 17.8792 - val_loss: 18.0217\n",
      "Epoch 9/20\n",
      "\u001b[1m250/250\u001b[0m \u001b[32m━━━━━━━━━━━━━━━━━━━━\u001b[0m\u001b[37m\u001b[0m \u001b[1m18s\u001b[0m 71ms/step - loss: 17.5782 - val_loss: 17.9321\n",
      "Epoch 10/20\n",
      "\u001b[1m250/250\u001b[0m \u001b[32m━━━━━━━━━━━━━━━━━━━━\u001b[0m\u001b[37m\u001b[0m \u001b[1m18s\u001b[0m 71ms/step - loss: 17.4965 - val_loss: 17.8401\n",
      "Epoch 11/20\n",
      "\u001b[1m250/250\u001b[0m \u001b[32m━━━━━━━━━━━━━━━━━━━━\u001b[0m\u001b[37m\u001b[0m \u001b[1m18s\u001b[0m 71ms/step - loss: 17.3186 - val_loss: 17.7099\n",
      "Epoch 12/20\n",
      "\u001b[1m250/250\u001b[0m \u001b[32m━━━━━━━━━━━━━━━━━━━━\u001b[0m\u001b[37m\u001b[0m \u001b[1m18s\u001b[0m 71ms/step - loss: 17.0501 - val_loss: 17.6648\n",
      "Epoch 13/20\n",
      "\u001b[1m250/250\u001b[0m \u001b[32m━━━━━━━━━━━━━━━━━━━━\u001b[0m\u001b[37m\u001b[0m \u001b[1m18s\u001b[0m 71ms/step - loss: 16.7914 - val_loss: 17.5763\n",
      "Epoch 14/20\n",
      "\u001b[1m250/250\u001b[0m \u001b[32m━━━━━━━━━━━━━━━━━━━━\u001b[0m\u001b[37m\u001b[0m \u001b[1m18s\u001b[0m 71ms/step - loss: 16.4864 - val_loss: 17.6093\n",
      "Epoch 15/20\n",
      "\u001b[1m250/250\u001b[0m \u001b[32m━━━━━━━━━━━━━━━━━━━━\u001b[0m\u001b[37m\u001b[0m \u001b[1m18s\u001b[0m 71ms/step - loss: 16.1097 - val_loss: 17.5037\n",
      "Epoch 16/20\n",
      "\u001b[1m250/250\u001b[0m \u001b[32m━━━━━━━━━━━━━━━━━━━━\u001b[0m\u001b[37m\u001b[0m \u001b[1m18s\u001b[0m 71ms/step - loss: 15.7143 - val_loss: 17.5801\n",
      "Epoch 17/20\n",
      "\u001b[1m250/250\u001b[0m \u001b[32m━━━━━━━━━━━━━━━━━━━━\u001b[0m\u001b[37m\u001b[0m \u001b[1m18s\u001b[0m 72ms/step - loss: 15.2923 - val_loss: 17.7557\n",
      "Epoch 18/20\n",
      "\u001b[1m250/250\u001b[0m \u001b[32m━━━━━━━━━━━━━━━━━━━━\u001b[0m\u001b[37m\u001b[0m \u001b[1m18s\u001b[0m 71ms/step - loss: 14.6015 - val_loss: 17.9441\n",
      "Epoch 19/20\n",
      "\u001b[1m250/250\u001b[0m \u001b[32m━━━━━━━━━━━━━━━━━━━━\u001b[0m\u001b[37m\u001b[0m \u001b[1m18s\u001b[0m 71ms/step - loss: 14.0682 - val_loss: 18.2124\n",
      "Epoch 20/20\n",
      "\u001b[1m250/250\u001b[0m \u001b[32m━━━━━━━━━━━━━━━━━━━━\u001b[0m\u001b[37m\u001b[0m \u001b[1m18s\u001b[0m 71ms/step - loss: 13.2359 - val_loss: 18.6810\n"
     ]
    }
   ],
   "source": [
    "history = model.fit(\n",
    "    x={'image_input': train_imgs, \n",
    "       'labels': train_labels_encoded_padded, \n",
    "       'input_length': train_input_length, \n",
    "       'label_length': train_label_length},\n",
    "    y=np.zeros(len(train_imgs)),\n",
    "    epochs=20,\n",
    "    batch_size=64,\n",
    "    validation_data=(\n",
    "        {'image_input': val_imgs, \n",
    "         'labels': val_labels_encoded_padded, \n",
    "         'input_length': val_input_length, \n",
    "         'label_length': val_label_length},\n",
    "        np.zeros(len(val_imgs))\n",
    "    )\n",
    ")"
   ]
  }
 ],
 "metadata": {
  "kaggle": {
   "accelerator": "gpu",
   "dataSources": [
    {
     "datasetId": 1081982,
     "sourceId": 1821108,
     "sourceType": "datasetVersion"
    }
   ],
   "dockerImageVersionId": 30762,
   "isGpuEnabled": true,
   "isInternetEnabled": true,
   "language": "python",
   "sourceType": "notebook"
  },
  "kernelspec": {
   "display_name": "Python 3 (ipykernel)",
   "language": "python",
   "name": "python3"
  },
  "language_info": {
   "codemirror_mode": {
    "name": "ipython",
    "version": 3
   },
   "file_extension": ".py",
   "mimetype": "text/x-python",
   "name": "python",
   "nbconvert_exporter": "python",
   "pygments_lexer": "ipython3",
   "version": "3.9.12"
  }
 },
 "nbformat": 4,
 "nbformat_minor": 4
}
