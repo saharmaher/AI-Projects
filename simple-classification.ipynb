{
 "cells": [
  {
   "cell_type": "markdown",
   "metadata": {},
   "source": [
    "## Predict Restaurant Menu Items Profitability"
   ]
  },
  {
   "cell_type": "code",
   "execution_count": 5,
   "metadata": {},
   "outputs": [
    {
     "name": "stdout",
     "output_type": "stream",
     "text": [
      "Requirement already satisfied: missingno in c:\\users\\dell\\anaconda3\\lib\\site-packages (0.5.2)\n",
      "Requirement already satisfied: numpy in c:\\users\\dell\\anaconda3\\lib\\site-packages (from missingno) (1.26.2)\n",
      "Requirement already satisfied: matplotlib in c:\\users\\dell\\anaconda3\\lib\\site-packages (from missingno) (3.8.3)\n",
      "Requirement already satisfied: scipy in c:\\users\\dell\\anaconda3\\lib\\site-packages (from missingno) (1.12.0)\n",
      "Requirement already satisfied: seaborn in c:\\users\\dell\\anaconda3\\lib\\site-packages (from missingno) (0.11.2)\n",
      "Requirement already satisfied: contourpy>=1.0.1 in c:\\users\\dell\\anaconda3\\lib\\site-packages (from matplotlib->missingno) (1.2.0)\n",
      "Requirement already satisfied: cycler>=0.10 in c:\\users\\dell\\anaconda3\\lib\\site-packages (from matplotlib->missingno) (0.10.0)\n",
      "Requirement already satisfied: fonttools>=4.22.0 in c:\\users\\dell\\anaconda3\\lib\\site-packages (from matplotlib->missingno) (4.25.0)\n",
      "Requirement already satisfied: kiwisolver>=1.3.1 in c:\\users\\dell\\anaconda3\\lib\\site-packages (from matplotlib->missingno) (1.3.2)\n",
      "Note: you may need to restart the kernel to use updated packages.\n",
      "Requirement already satisfied: packaging>=20.0 in c:\\users\\dell\\anaconda3\\lib\\site-packages (from matplotlib->missingno) (21.3)\n",
      "Requirement already satisfied: pillow>=8 in c:\\users\\dell\\anaconda3\\lib\\site-packages (from matplotlib->missingno) (9.0.1)\n",
      "Requirement already satisfied: pyparsing>=2.3.1 in c:\\users\\dell\\anaconda3\\lib\\site-packages (from matplotlib->missingno) (3.0.4)\n",
      "Requirement already satisfied: python-dateutil>=2.7 in c:\\users\\dell\\anaconda3\\lib\\site-packages (from matplotlib->missingno) (2.8.2)\n",
      "Requirement already satisfied: importlib-resources>=3.2.0 in c:\\users\\dell\\anaconda3\\lib\\site-packages (from matplotlib->missingno) (6.1.1)\n",
      "Requirement already satisfied: pandas>=0.23 in c:\\users\\dell\\anaconda3\\lib\\site-packages (from seaborn->missingno) (1.4.2)\n",
      "Requirement already satisfied: six in c:\\users\\dell\\anaconda3\\lib\\site-packages (from cycler>=0.10->matplotlib->missingno) (1.16.0)\n",
      "Requirement already satisfied: zipp>=3.1.0 in c:\\users\\dell\\anaconda3\\lib\\site-packages (from importlib-resources>=3.2.0->matplotlib->missingno) (3.7.0)\n",
      "Requirement already satisfied: pytz>=2020.1 in c:\\users\\dell\\anaconda3\\lib\\site-packages (from pandas>=0.23->seaborn->missingno) (2021.3)\n"
     ]
    },
    {
     "name": "stderr",
     "output_type": "stream",
     "text": [
      "\n",
      "[notice] A new release of pip is available: 24.1.1 -> 24.1.2\n",
      "[notice] To update, run: python.exe -m pip install --upgrade pip\n"
     ]
    }
   ],
   "source": [
    "pip install missingno"
   ]
  },
  {
   "cell_type": "code",
   "execution_count": 6,
   "metadata": {
    "_cell_guid": "b1076dfc-b9ad-4769-8c92-a6c4dae69d19",
    "_uuid": "8f2839f25d086af736a60e9eeb907d3b93b6e0e5",
    "execution": {
     "iopub.execute_input": "2024-07-01T06:37:03.5965Z",
     "iopub.status.busy": "2024-07-01T06:37:03.5961Z",
     "iopub.status.idle": "2024-07-01T06:37:03.605888Z",
     "shell.execute_reply": "2024-07-01T06:37:03.604558Z",
     "shell.execute_reply.started": "2024-07-01T06:37:03.596471Z"
    }
   },
   "outputs": [],
   "source": [
    "# improt libraries\n",
    "\n",
    "import pandas as pd\n",
    "import numpy as np\n",
    "import matplotlib.pyplot as plt\n",
    "import seaborn as sns\n",
    "\n",
    "from scipy import stats as st\n",
    "\n",
    "plt.style.use('ggplot')\n",
    "\n",
    "plt.rcParams['figure.dpi'] = 150\n",
    "\n",
    "import missingno as msno\n",
    "\n",
    "import warnings\n",
    "warnings.filterwarnings('ignore')"
   ]
  },
  {
   "cell_type": "code",
   "execution_count": 7,
   "metadata": {
    "execution": {
     "iopub.execute_input": "2024-07-01T06:37:03.608996Z",
     "iopub.status.busy": "2024-07-01T06:37:03.60853Z",
     "iopub.status.idle": "2024-07-01T06:37:03.635148Z",
     "shell.execute_reply": "2024-07-01T06:37:03.634006Z",
     "shell.execute_reply.started": "2024-07-01T06:37:03.608957Z"
    }
   },
   "outputs": [],
   "source": [
    "# load data\n",
    "\n",
    "df = pd.read_csv('restaurant_menu_optimization_data.csv')"
   ]
  },
  {
   "cell_type": "code",
   "execution_count": 8,
   "metadata": {
    "execution": {
     "iopub.execute_input": "2024-07-01T06:37:03.636815Z",
     "iopub.status.busy": "2024-07-01T06:37:03.636477Z",
     "iopub.status.idle": "2024-07-01T06:37:03.654853Z",
     "shell.execute_reply": "2024-07-01T06:37:03.653307Z",
     "shell.execute_reply.started": "2024-07-01T06:37:03.636787Z"
    }
   },
   "outputs": [
    {
     "data": {
      "text/html": [
       "<div>\n",
       "<style scoped>\n",
       "    .dataframe tbody tr th:only-of-type {\n",
       "        vertical-align: middle;\n",
       "    }\n",
       "\n",
       "    .dataframe tbody tr th {\n",
       "        vertical-align: top;\n",
       "    }\n",
       "\n",
       "    .dataframe thead th {\n",
       "        text-align: right;\n",
       "    }\n",
       "</style>\n",
       "<table border=\"1\" class=\"dataframe\">\n",
       "  <thead>\n",
       "    <tr style=\"text-align: right;\">\n",
       "      <th></th>\n",
       "      <th>RestaurantID</th>\n",
       "      <th>MenuCategory</th>\n",
       "      <th>MenuItem</th>\n",
       "      <th>Ingredients</th>\n",
       "      <th>Price</th>\n",
       "      <th>Profitability</th>\n",
       "    </tr>\n",
       "  </thead>\n",
       "  <tbody>\n",
       "    <tr>\n",
       "      <th>0</th>\n",
       "      <td>R003</td>\n",
       "      <td>Beverages</td>\n",
       "      <td>Soda</td>\n",
       "      <td>['confidential']</td>\n",
       "      <td>2.55</td>\n",
       "      <td>Low</td>\n",
       "    </tr>\n",
       "    <tr>\n",
       "      <th>1</th>\n",
       "      <td>R001</td>\n",
       "      <td>Appetizers</td>\n",
       "      <td>Spinach Artichoke Dip</td>\n",
       "      <td>['Tomatoes', 'Basil', 'Garlic', 'Olive Oil']</td>\n",
       "      <td>11.12</td>\n",
       "      <td>Medium</td>\n",
       "    </tr>\n",
       "    <tr>\n",
       "      <th>2</th>\n",
       "      <td>R003</td>\n",
       "      <td>Desserts</td>\n",
       "      <td>New York Cheesecake</td>\n",
       "      <td>['Chocolate', 'Butter', 'Sugar', 'Eggs']</td>\n",
       "      <td>18.66</td>\n",
       "      <td>High</td>\n",
       "    </tr>\n",
       "    <tr>\n",
       "      <th>3</th>\n",
       "      <td>R003</td>\n",
       "      <td>Main Course</td>\n",
       "      <td>Chicken Alfredo</td>\n",
       "      <td>['Chicken', 'Fettuccine', 'Alfredo Sauce', 'Pa...</td>\n",
       "      <td>29.55</td>\n",
       "      <td>High</td>\n",
       "    </tr>\n",
       "    <tr>\n",
       "      <th>4</th>\n",
       "      <td>R002</td>\n",
       "      <td>Main Course</td>\n",
       "      <td>Grilled Steak</td>\n",
       "      <td>['Chicken', 'Fettuccine', 'Alfredo Sauce', 'Pa...</td>\n",
       "      <td>17.73</td>\n",
       "      <td>Medium</td>\n",
       "    </tr>\n",
       "  </tbody>\n",
       "</table>\n",
       "</div>"
      ],
      "text/plain": [
       "  RestaurantID MenuCategory               MenuItem  \\\n",
       "0         R003    Beverages                   Soda   \n",
       "1         R001   Appetizers  Spinach Artichoke Dip   \n",
       "2         R003     Desserts    New York Cheesecake   \n",
       "3         R003  Main Course        Chicken Alfredo   \n",
       "4         R002  Main Course          Grilled Steak   \n",
       "\n",
       "                                         Ingredients  Price Profitability  \n",
       "0                                   ['confidential']   2.55           Low  \n",
       "1       ['Tomatoes', 'Basil', 'Garlic', 'Olive Oil']  11.12        Medium  \n",
       "2           ['Chocolate', 'Butter', 'Sugar', 'Eggs']  18.66          High  \n",
       "3  ['Chicken', 'Fettuccine', 'Alfredo Sauce', 'Pa...  29.55          High  \n",
       "4  ['Chicken', 'Fettuccine', 'Alfredo Sauce', 'Pa...  17.73        Medium  "
      ]
     },
     "execution_count": 8,
     "metadata": {},
     "output_type": "execute_result"
    }
   ],
   "source": [
    "df.head()"
   ]
  },
  {
   "cell_type": "code",
   "execution_count": 9,
   "metadata": {
    "execution": {
     "iopub.execute_input": "2024-07-01T06:37:03.657066Z",
     "iopub.status.busy": "2024-07-01T06:37:03.656604Z",
     "iopub.status.idle": "2024-07-01T06:37:03.67594Z",
     "shell.execute_reply": "2024-07-01T06:37:03.674805Z",
     "shell.execute_reply.started": "2024-07-01T06:37:03.657026Z"
    }
   },
   "outputs": [
    {
     "name": "stdout",
     "output_type": "stream",
     "text": [
      "<class 'pandas.core.frame.DataFrame'>\n",
      "RangeIndex: 1000 entries, 0 to 999\n",
      "Data columns (total 6 columns):\n",
      " #   Column         Non-Null Count  Dtype  \n",
      "---  ------         --------------  -----  \n",
      " 0   RestaurantID   1000 non-null   object \n",
      " 1   MenuCategory   1000 non-null   object \n",
      " 2   MenuItem       1000 non-null   object \n",
      " 3   Ingredients    1000 non-null   object \n",
      " 4   Price          1000 non-null   float64\n",
      " 5   Profitability  1000 non-null   object \n",
      "dtypes: float64(1), object(5)\n",
      "memory usage: 47.0+ KB\n"
     ]
    }
   ],
   "source": [
    "df.info()"
   ]
  },
  {
   "cell_type": "markdown",
   "metadata": {},
   "source": [
    "### Data check"
   ]
  },
  {
   "cell_type": "code",
   "execution_count": 10,
   "metadata": {
    "execution": {
     "iopub.execute_input": "2024-07-01T06:37:03.679744Z",
     "iopub.status.busy": "2024-07-01T06:37:03.679372Z",
     "iopub.status.idle": "2024-07-01T06:37:03.699061Z",
     "shell.execute_reply": "2024-07-01T06:37:03.697835Z",
     "shell.execute_reply.started": "2024-07-01T06:37:03.679706Z"
    }
   },
   "outputs": [
    {
     "data": {
      "text/html": [
       "<div>\n",
       "<style scoped>\n",
       "    .dataframe tbody tr th:only-of-type {\n",
       "        vertical-align: middle;\n",
       "    }\n",
       "\n",
       "    .dataframe tbody tr th {\n",
       "        vertical-align: top;\n",
       "    }\n",
       "\n",
       "    .dataframe thead th {\n",
       "        text-align: right;\n",
       "    }\n",
       "</style>\n",
       "<table border=\"1\" class=\"dataframe\">\n",
       "  <thead>\n",
       "    <tr style=\"text-align: right;\">\n",
       "      <th></th>\n",
       "      <th>Price</th>\n",
       "    </tr>\n",
       "  </thead>\n",
       "  <tbody>\n",
       "    <tr>\n",
       "      <th>count</th>\n",
       "      <td>1000.00000</td>\n",
       "    </tr>\n",
       "    <tr>\n",
       "      <th>mean</th>\n",
       "      <td>12.81801</td>\n",
       "    </tr>\n",
       "    <tr>\n",
       "      <th>std</th>\n",
       "      <td>7.41713</td>\n",
       "    </tr>\n",
       "    <tr>\n",
       "      <th>min</th>\n",
       "      <td>2.01000</td>\n",
       "    </tr>\n",
       "    <tr>\n",
       "      <th>25%</th>\n",
       "      <td>4.86750</td>\n",
       "    </tr>\n",
       "    <tr>\n",
       "      <th>50%</th>\n",
       "      <td>12.53500</td>\n",
       "    </tr>\n",
       "    <tr>\n",
       "      <th>75%</th>\n",
       "      <td>17.69000</td>\n",
       "    </tr>\n",
       "    <tr>\n",
       "      <th>max</th>\n",
       "      <td>29.84000</td>\n",
       "    </tr>\n",
       "  </tbody>\n",
       "</table>\n",
       "</div>"
      ],
      "text/plain": [
       "            Price\n",
       "count  1000.00000\n",
       "mean     12.81801\n",
       "std       7.41713\n",
       "min       2.01000\n",
       "25%       4.86750\n",
       "50%      12.53500\n",
       "75%      17.69000\n",
       "max      29.84000"
      ]
     },
     "execution_count": 10,
     "metadata": {},
     "output_type": "execute_result"
    }
   ],
   "source": [
    "# Numerical Data\n",
    "\n",
    "df.describe()"
   ]
  },
  {
   "cell_type": "code",
   "execution_count": 11,
   "metadata": {
    "execution": {
     "iopub.execute_input": "2024-07-01T06:37:03.701095Z",
     "iopub.status.busy": "2024-07-01T06:37:03.700683Z",
     "iopub.status.idle": "2024-07-01T06:37:03.731065Z",
     "shell.execute_reply": "2024-07-01T06:37:03.729884Z",
     "shell.execute_reply.started": "2024-07-01T06:37:03.701066Z"
    }
   },
   "outputs": [
    {
     "data": {
      "text/html": [
       "<div>\n",
       "<style scoped>\n",
       "    .dataframe tbody tr th:only-of-type {\n",
       "        vertical-align: middle;\n",
       "    }\n",
       "\n",
       "    .dataframe tbody tr th {\n",
       "        vertical-align: top;\n",
       "    }\n",
       "\n",
       "    .dataframe thead th {\n",
       "        text-align: right;\n",
       "    }\n",
       "</style>\n",
       "<table border=\"1\" class=\"dataframe\">\n",
       "  <thead>\n",
       "    <tr style=\"text-align: right;\">\n",
       "      <th></th>\n",
       "      <th>RestaurantID</th>\n",
       "      <th>MenuCategory</th>\n",
       "      <th>MenuItem</th>\n",
       "      <th>Ingredients</th>\n",
       "      <th>Profitability</th>\n",
       "    </tr>\n",
       "  </thead>\n",
       "  <tbody>\n",
       "    <tr>\n",
       "      <th>count</th>\n",
       "      <td>1000</td>\n",
       "      <td>1000</td>\n",
       "      <td>1000</td>\n",
       "      <td>1000</td>\n",
       "      <td>1000</td>\n",
       "    </tr>\n",
       "    <tr>\n",
       "      <th>unique</th>\n",
       "      <td>3</td>\n",
       "      <td>4</td>\n",
       "      <td>16</td>\n",
       "      <td>4</td>\n",
       "      <td>3</td>\n",
       "    </tr>\n",
       "    <tr>\n",
       "      <th>top</th>\n",
       "      <td>R001</td>\n",
       "      <td>Beverages</td>\n",
       "      <td>Iced Tea</td>\n",
       "      <td>['confidential']</td>\n",
       "      <td>Medium</td>\n",
       "    </tr>\n",
       "    <tr>\n",
       "      <th>freq</th>\n",
       "      <td>354</td>\n",
       "      <td>264</td>\n",
       "      <td>72</td>\n",
       "      <td>264</td>\n",
       "      <td>495</td>\n",
       "    </tr>\n",
       "  </tbody>\n",
       "</table>\n",
       "</div>"
      ],
      "text/plain": [
       "       RestaurantID MenuCategory  MenuItem       Ingredients Profitability\n",
       "count          1000         1000      1000              1000          1000\n",
       "unique            3            4        16                 4             3\n",
       "top            R001    Beverages  Iced Tea  ['confidential']        Medium\n",
       "freq            354          264        72               264           495"
      ]
     },
     "execution_count": 11,
     "metadata": {},
     "output_type": "execute_result"
    }
   ],
   "source": [
    "# Categorical Data\n",
    "\n",
    "df.describe(include = 'object')"
   ]
  },
  {
   "cell_type": "markdown",
   "metadata": {},
   "source": [
    "### EDA"
   ]
  },
  {
   "cell_type": "code",
   "execution_count": 13,
   "metadata": {
    "execution": {
     "iopub.execute_input": "2024-07-01T06:37:05.304026Z",
     "iopub.status.busy": "2024-07-01T06:37:05.303662Z",
     "iopub.status.idle": "2024-07-01T06:37:05.592152Z",
     "shell.execute_reply": "2024-07-01T06:37:05.590989Z",
     "shell.execute_reply.started": "2024-07-01T06:37:05.303996Z"
    }
   },
   "outputs": [
    {
     "name": "stdout",
     "output_type": "stream",
     "text": [
      "Price Data skewness : 0.3589500550270436\n"
     ]
    },
    {
     "data": {
      "image/png": "[encoded data removed]",
      "text/plain": [
       "<Figure size 432x288 with 1 Axes>"
      ]
     },
     "metadata": {
      "needs_background": "light"
     },
     "output_type": "display_data"
    }
   ],
   "source": [
    "# Visualize the distribution of numerical data\n",
    "\n",
    "print(f\"Price Data skewness : {df['Price'].skew()}\")\n",
    "\n",
    "plt.hist(df['Price'] , edgecolor = 'black' , bins = 10)\n",
    "plt.xlabel('Price')\n",
    "plt.ylabel('Freq')\n",
    "plt.title('Price Data Distribution')\n",
    "plt.show()"
   ]
  },
  {
   "cell_type": "code",
   "execution_count": 14,
   "metadata": {
    "execution": {
     "iopub.execute_input": "2024-07-01T06:37:05.594154Z",
     "iopub.status.busy": "2024-07-01T06:37:05.59372Z",
     "iopub.status.idle": "2024-07-01T06:37:05.867566Z",
     "shell.execute_reply": "2024-07-01T06:37:05.865814Z",
     "shell.execute_reply.started": "2024-07-01T06:37:05.594111Z"
    }
   },
   "outputs": [
    {
     "data": {
      "image/png": "[encoded data removed]",
      "text/plain": [
       "<Figure size 432x288 with 1 Axes>"
      ]
     },
     "metadata": {
      "needs_background": "light"
     },
     "output_type": "display_data"
    }
   ],
   "source": [
    "plt.boxplot(df['Price'])\n",
    "plt.xlabel('Price')\n",
    "plt.title('Price Data Boxplot')\n",
    "plt.show()"
   ]
  },
  {
   "cell_type": "code",
   "execution_count": 15,
   "metadata": {
    "execution": {
     "iopub.execute_input": "2024-07-01T06:37:05.869617Z",
     "iopub.status.busy": "2024-07-01T06:37:05.869129Z",
     "iopub.status.idle": "2024-07-01T06:37:05.887645Z",
     "shell.execute_reply": "2024-07-01T06:37:05.885958Z",
     "shell.execute_reply.started": "2024-07-01T06:37:05.869573Z"
    }
   },
   "outputs": [
    {
     "data": {
      "text/html": [
       "<div>\n",
       "<style scoped>\n",
       "    .dataframe tbody tr th:only-of-type {\n",
       "        vertical-align: middle;\n",
       "    }\n",
       "\n",
       "    .dataframe tbody tr th {\n",
       "        vertical-align: top;\n",
       "    }\n",
       "\n",
       "    .dataframe thead th {\n",
       "        text-align: right;\n",
       "    }\n",
       "</style>\n",
       "<table border=\"1\" class=\"dataframe\">\n",
       "  <thead>\n",
       "    <tr style=\"text-align: right;\">\n",
       "      <th></th>\n",
       "      <th>RestaurantID</th>\n",
       "      <th>MenuCategory</th>\n",
       "      <th>MenuItem</th>\n",
       "      <th>Ingredients</th>\n",
       "      <th>Profitability</th>\n",
       "    </tr>\n",
       "  </thead>\n",
       "  <tbody>\n",
       "    <tr>\n",
       "      <th>0</th>\n",
       "      <td>R003</td>\n",
       "      <td>Beverages</td>\n",
       "      <td>Soda</td>\n",
       "      <td>['confidential']</td>\n",
       "      <td>Low</td>\n",
       "    </tr>\n",
       "    <tr>\n",
       "      <th>1</th>\n",
       "      <td>R001</td>\n",
       "      <td>Appetizers</td>\n",
       "      <td>Spinach Artichoke Dip</td>\n",
       "      <td>['Tomatoes', 'Basil', 'Garlic', 'Olive Oil']</td>\n",
       "      <td>Medium</td>\n",
       "    </tr>\n",
       "    <tr>\n",
       "      <th>2</th>\n",
       "      <td>R003</td>\n",
       "      <td>Desserts</td>\n",
       "      <td>New York Cheesecake</td>\n",
       "      <td>['Chocolate', 'Butter', 'Sugar', 'Eggs']</td>\n",
       "      <td>High</td>\n",
       "    </tr>\n",
       "    <tr>\n",
       "      <th>3</th>\n",
       "      <td>R003</td>\n",
       "      <td>Main Course</td>\n",
       "      <td>Chicken Alfredo</td>\n",
       "      <td>['Chicken', 'Fettuccine', 'Alfredo Sauce', 'Pa...</td>\n",
       "      <td>High</td>\n",
       "    </tr>\n",
       "    <tr>\n",
       "      <th>4</th>\n",
       "      <td>R002</td>\n",
       "      <td>Main Course</td>\n",
       "      <td>Grilled Steak</td>\n",
       "      <td>['Chicken', 'Fettuccine', 'Alfredo Sauce', 'Pa...</td>\n",
       "      <td>Medium</td>\n",
       "    </tr>\n",
       "  </tbody>\n",
       "</table>\n",
       "</div>"
      ],
      "text/plain": [
       "  RestaurantID MenuCategory               MenuItem  \\\n",
       "0         R003    Beverages                   Soda   \n",
       "1         R001   Appetizers  Spinach Artichoke Dip   \n",
       "2         R003     Desserts    New York Cheesecake   \n",
       "3         R003  Main Course        Chicken Alfredo   \n",
       "4         R002  Main Course          Grilled Steak   \n",
       "\n",
       "                                         Ingredients Profitability  \n",
       "0                                   ['confidential']           Low  \n",
       "1       ['Tomatoes', 'Basil', 'Garlic', 'Olive Oil']        Medium  \n",
       "2           ['Chocolate', 'Butter', 'Sugar', 'Eggs']          High  \n",
       "3  ['Chicken', 'Fettuccine', 'Alfredo Sauce', 'Pa...          High  \n",
       "4  ['Chicken', 'Fettuccine', 'Alfredo Sauce', 'Pa...        Medium  "
      ]
     },
     "execution_count": 15,
     "metadata": {},
     "output_type": "execute_result"
    }
   ],
   "source": [
    "# Visualize the distribution of numerical data\n",
    "\n",
    "# separate categorical data from the entire dataset\n",
    "\n",
    "obj_data = df.select_dtypes('object')\n",
    "\n",
    "obj_data.head()"
   ]
  },
  {
   "cell_type": "code",
   "execution_count": 16,
   "metadata": {
    "execution": {
     "iopub.execute_input": "2024-07-01T06:37:05.88978Z",
     "iopub.status.busy": "2024-07-01T06:37:05.889398Z",
     "iopub.status.idle": "2024-07-01T06:37:05.905988Z",
     "shell.execute_reply": "2024-07-01T06:37:05.904814Z",
     "shell.execute_reply.started": "2024-07-01T06:37:05.88974Z"
    }
   },
   "outputs": [
    {
     "name": "stdout",
     "output_type": "stream",
     "text": [
      "RestaurantID Nunique : 3\n",
      "MenuCategory Nunique : 4\n",
      "MenuItem Nunique : 16\n",
      "Ingredients Nunique : 4\n",
      "Profitability Nunique : 3\n"
     ]
    }
   ],
   "source": [
    "# check the cardinality\n",
    "\n",
    "cols = obj_data.columns\n",
    "\n",
    "for col in cols:\n",
    "    print(f\"{col} Nunique : {obj_data[col].nunique()}\")"
   ]
  },
  {
   "cell_type": "code",
   "execution_count": 17,
   "metadata": {
    "execution": {
     "iopub.execute_input": "2024-07-01T06:37:05.909023Z",
     "iopub.status.busy": "2024-07-01T06:37:05.907776Z",
     "iopub.status.idle": "2024-07-01T06:37:06.199686Z",
     "shell.execute_reply": "2024-07-01T06:37:06.198193Z",
     "shell.execute_reply.started": "2024-07-01T06:37:05.908966Z"
    }
   },
   "outputs": [
    {
     "data": {
      "image/png": "[encoded data removed]",
      "text/plain": [
       "<Figure size 432x288 with 1 Axes>"
      ]
     },
     "metadata": {
      "needs_background": "light"
     },
     "output_type": "display_data"
    }
   ],
   "source": [
    "# MenuCategory\n",
    "\n",
    "data = obj_data['MenuCategory'].value_counts(ascending = True)\n",
    "plt.barh(data.index , data.values , height = 0.4)\n",
    "plt.title('Count of MenuCategory')\n",
    "plt.show()"
   ]
  },
  {
   "cell_type": "code",
   "execution_count": 18,
   "metadata": {
    "execution": {
     "iopub.execute_input": "2024-07-01T06:37:06.202529Z",
     "iopub.status.busy": "2024-07-01T06:37:06.201632Z",
     "iopub.status.idle": "2024-07-01T06:37:06.593093Z",
     "shell.execute_reply": "2024-07-01T06:37:06.591843Z",
     "shell.execute_reply.started": "2024-07-01T06:37:06.202491Z"
    }
   },
   "outputs": [
    {
     "data": {
      "image/png": "[encoded data removed]",
      "text/plain": [
       "<Figure size 432x288 with 1 Axes>"
      ]
     },
     "metadata": {
      "needs_background": "light"
     },
     "output_type": "display_data"
    }
   ],
   "source": [
    "# MenuItem\n",
    "\n",
    "data = obj_data['MenuItem'].value_counts(ascending = True).head(10)\n",
    "plt.barh(data.index , data.values , height = 0.4)\n",
    "plt.title('Menu Item Top 10')\n",
    "plt.show()"
   ]
  },
  {
   "cell_type": "markdown",
   "metadata": {},
   "source": [
    "We can see that the menu item are different depending on the specific ingredients"
   ]
  },
  {
   "cell_type": "code",
   "execution_count": 19,
   "metadata": {
    "execution": {
     "iopub.execute_input": "2024-07-01T06:37:06.599746Z",
     "iopub.status.busy": "2024-07-01T06:37:06.599368Z",
     "iopub.status.idle": "2024-07-01T06:37:06.614844Z",
     "shell.execute_reply": "2024-07-01T06:37:06.613514Z",
     "shell.execute_reply.started": "2024-07-01T06:37:06.599717Z"
    }
   },
   "outputs": [
    {
     "data": {
      "text/plain": [
       "Ingredients                                             MenuItem             \n",
       "['Chicken', 'Fettuccine', 'Alfredo Sauce', 'Parmesan']  Chicken Alfredo          50\n",
       "                                                        Grilled Steak            55\n",
       "                                                        Shrimp Scampi            55\n",
       "                                                        Vegetable Stir-Fry       66\n",
       "['Chocolate', 'Butter', 'Sugar', 'Eggs']                Chocolate Lava Cake      55\n",
       "                                                        Fruit Tart               60\n",
       "                                                        New York Cheesecake      71\n",
       "                                                        Tiramisu                 70\n",
       "['Tomatoes', 'Basil', 'Garlic', 'Olive Oil']            Bruschetta               64\n",
       "                                                        Caprese Salad            67\n",
       "                                                        Spinach Artichoke Dip    64\n",
       "                                                        Stuffed Mushrooms        59\n",
       "['confidential']                                        Coffee                   66\n",
       "                                                        Iced Tea                 72\n",
       "                                                        Lemonade                 57\n",
       "                                                        Soda                     69\n",
       "Name: MenuItem, dtype: int64"
      ]
     },
     "execution_count": 19,
     "metadata": {},
     "output_type": "execute_result"
    }
   ],
   "source": [
    "# Ingredients\n",
    "\n",
    "obj_data.groupby(['Ingredients' , 'MenuItem'])['MenuItem'].count()"
   ]
  },
  {
   "cell_type": "markdown",
   "metadata": {},
   "source": [
    "If the price difference between the same ingredient groups is not large and the price difference between groups is clear\n",
    "\n",
    "--> We can group menu items according to ingredients"
   ]
  },
  {
   "cell_type": "markdown",
   "metadata": {},
   "source": [
    "There is not much difference between the same groups , and the difference between the groups is evident."
   ]
  },
  {
   "cell_type": "code",
   "execution_count": 22,
   "metadata": {
    "execution": {
     "iopub.execute_input": "2024-07-01T06:37:08.062857Z",
     "iopub.status.busy": "2024-07-01T06:37:08.062429Z",
     "iopub.status.idle": "2024-07-01T06:37:08.337647Z",
     "shell.execute_reply": "2024-07-01T06:37:08.336601Z",
     "shell.execute_reply.started": "2024-07-01T06:37:08.062818Z"
    }
   },
   "outputs": [
    {
     "data": {
      "image/png": "[encoded data removed]",
      "text/plain": [
       "<Figure size 432x288 with 1 Axes>"
      ]
     },
     "metadata": {
      "needs_background": "light"
     },
     "output_type": "display_data"
    }
   ],
   "source": [
    "# Profitability\n",
    "\n",
    "data = obj_data['Profitability'].value_counts(ascending = True)\n",
    "plt.bar(data.index , data.values , width = 0.4)\n",
    "plt.title('Count of Profitability')\n",
    "plt.show()"
   ]
  },
  {
   "cell_type": "markdown",
   "metadata": {},
   "source": [
    "### Preprocessing"
   ]
  },
  {
   "cell_type": "code",
   "execution_count": 23,
   "metadata": {
    "execution": {
     "iopub.execute_input": "2024-07-01T06:37:08.339256Z",
     "iopub.status.busy": "2024-07-01T06:37:08.338893Z",
     "iopub.status.idle": "2024-07-01T06:37:08.346087Z",
     "shell.execute_reply": "2024-07-01T06:37:08.344927Z",
     "shell.execute_reply.started": "2024-07-01T06:37:08.339209Z"
    }
   },
   "outputs": [],
   "source": [
    "# drop ID\n",
    "df.drop(['RestaurantID'] , axis = 1 , inplace = True)"
   ]
  },
  {
   "cell_type": "code",
   "execution_count": 24,
   "metadata": {
    "execution": {
     "iopub.execute_input": "2024-07-01T06:37:08.347944Z",
     "iopub.status.busy": "2024-07-01T06:37:08.347565Z",
     "iopub.status.idle": "2024-07-01T06:37:08.67856Z",
     "shell.execute_reply": "2024-07-01T06:37:08.677331Z",
     "shell.execute_reply.started": "2024-07-01T06:37:08.347915Z"
    }
   },
   "outputs": [],
   "source": [
    "# Grouping\n",
    "\n",
    "for i in range(df.shape[0]):\n",
    "    if df.loc[i , 'MenuCategory'] == 'Beverages':\n",
    "        df.loc[i , 'MenuItem'] = 'A'\n",
    "    elif df.loc[i , 'MenuCategory'] == 'Appetizers':\n",
    "        df.loc[i , 'MenuItem'] = 'B'\n",
    "    elif df.loc[i , 'MenuCategory'] == 'Desserts':\n",
    "        df.loc[i , 'MenuItem'] = 'C'\n",
    "    else:\n",
    "        df.loc[i , 'MenuItem'] = 'D'"
   ]
  },
  {
   "cell_type": "code",
   "execution_count": 25,
   "metadata": {
    "execution": {
     "iopub.execute_input": "2024-07-01T06:37:08.68071Z",
     "iopub.status.busy": "2024-07-01T06:37:08.680141Z",
     "iopub.status.idle": "2024-07-01T06:37:08.692339Z",
     "shell.execute_reply": "2024-07-01T06:37:08.690725Z",
     "shell.execute_reply.started": "2024-07-01T06:37:08.680666Z"
    }
   },
   "outputs": [],
   "source": [
    "# Encoding\n",
    "\n",
    "from sklearn.preprocessing import LabelEncoder\n",
    "\n",
    "encoder = LabelEncoder()\n",
    "\n",
    "df['MenuCategory'] = encoder.fit_transform(df['MenuCategory'])\n",
    "df['MenuItem'] = encoder.fit_transform(df['MenuItem'])\n",
    "df['Ingredients'] = encoder.fit_transform(df['Ingredients'])\n",
    "\n",
    "# target value encoding\n",
    "\n",
    "df['Profitability'] = encoder.fit_transform(df['Profitability'])"
   ]
  },
  {
   "cell_type": "code",
   "execution_count": 26,
   "metadata": {
    "execution": {
     "iopub.execute_input": "2024-07-01T06:37:08.69442Z",
     "iopub.status.busy": "2024-07-01T06:37:08.693789Z",
     "iopub.status.idle": "2024-07-01T06:37:08.713492Z",
     "shell.execute_reply": "2024-07-01T06:37:08.712204Z",
     "shell.execute_reply.started": "2024-07-01T06:37:08.694373Z"
    }
   },
   "outputs": [
    {
     "data": {
      "text/html": [
       "<div>\n",
       "<style scoped>\n",
       "    .dataframe tbody tr th:only-of-type {\n",
       "        vertical-align: middle;\n",
       "    }\n",
       "\n",
       "    .dataframe tbody tr th {\n",
       "        vertical-align: top;\n",
       "    }\n",
       "\n",
       "    .dataframe thead th {\n",
       "        text-align: right;\n",
       "    }\n",
       "</style>\n",
       "<table border=\"1\" class=\"dataframe\">\n",
       "  <thead>\n",
       "    <tr style=\"text-align: right;\">\n",
       "      <th></th>\n",
       "      <th>MenuCategory</th>\n",
       "      <th>MenuItem</th>\n",
       "      <th>Ingredients</th>\n",
       "      <th>Price</th>\n",
       "      <th>Profitability</th>\n",
       "    </tr>\n",
       "  </thead>\n",
       "  <tbody>\n",
       "    <tr>\n",
       "      <th>0</th>\n",
       "      <td>1</td>\n",
       "      <td>0</td>\n",
       "      <td>3</td>\n",
       "      <td>2.55</td>\n",
       "      <td>1</td>\n",
       "    </tr>\n",
       "    <tr>\n",
       "      <th>1</th>\n",
       "      <td>0</td>\n",
       "      <td>1</td>\n",
       "      <td>2</td>\n",
       "      <td>11.12</td>\n",
       "      <td>2</td>\n",
       "    </tr>\n",
       "    <tr>\n",
       "      <th>2</th>\n",
       "      <td>2</td>\n",
       "      <td>2</td>\n",
       "      <td>1</td>\n",
       "      <td>18.66</td>\n",
       "      <td>0</td>\n",
       "    </tr>\n",
       "    <tr>\n",
       "      <th>3</th>\n",
       "      <td>3</td>\n",
       "      <td>3</td>\n",
       "      <td>0</td>\n",
       "      <td>29.55</td>\n",
       "      <td>0</td>\n",
       "    </tr>\n",
       "    <tr>\n",
       "      <th>4</th>\n",
       "      <td>3</td>\n",
       "      <td>3</td>\n",
       "      <td>0</td>\n",
       "      <td>17.73</td>\n",
       "      <td>2</td>\n",
       "    </tr>\n",
       "  </tbody>\n",
       "</table>\n",
       "</div>"
      ],
      "text/plain": [
       "   MenuCategory  MenuItem  Ingredients  Price  Profitability\n",
       "0             1         0            3   2.55              1\n",
       "1             0         1            2  11.12              2\n",
       "2             2         2            1  18.66              0\n",
       "3             3         3            0  29.55              0\n",
       "4             3         3            0  17.73              2"
      ]
     },
     "execution_count": 26,
     "metadata": {},
     "output_type": "execute_result"
    }
   ],
   "source": [
    "df.head()"
   ]
  },
  {
   "cell_type": "markdown",
   "metadata": {},
   "source": [
    "### Modeling"
   ]
  },
  {
   "cell_type": "code",
   "execution_count": 27,
   "metadata": {
    "execution": {
     "iopub.execute_input": "2024-07-01T06:37:08.715571Z",
     "iopub.status.busy": "2024-07-01T06:37:08.715202Z",
     "iopub.status.idle": "2024-07-01T06:37:08.726306Z",
     "shell.execute_reply": "2024-07-01T06:37:08.725156Z",
     "shell.execute_reply.started": "2024-07-01T06:37:08.715543Z"
    }
   },
   "outputs": [],
   "source": [
    "# set the value of y\n",
    "\n",
    "target = df['Profitability']\n",
    "df.drop(['Profitability'] , axis = 1 , inplace = True)"
   ]
  },
  {
   "cell_type": "code",
   "execution_count": 28,
   "metadata": {
    "execution": {
     "iopub.execute_input": "2024-07-01T06:37:08.728082Z",
     "iopub.status.busy": "2024-07-01T06:37:08.727738Z",
     "iopub.status.idle": "2024-07-01T06:37:08.741086Z",
     "shell.execute_reply": "2024-07-01T06:37:08.73991Z",
     "shell.execute_reply.started": "2024-07-01T06:37:08.728054Z"
    }
   },
   "outputs": [],
   "source": [
    "# using xgb model\n",
    "\n",
    "import xgboost as xgb\n",
    "\n",
    "from sklearn.model_selection import train_test_split , GridSearchCV\n",
    "from sklearn.metrics import f1_score , classification_report"
   ]
  },
  {
   "cell_type": "code",
   "execution_count": 29,
   "metadata": {
    "execution": {
     "iopub.execute_input": "2024-07-01T06:37:08.743089Z",
     "iopub.status.busy": "2024-07-01T06:37:08.742706Z",
     "iopub.status.idle": "2024-07-01T06:37:08.760366Z",
     "shell.execute_reply": "2024-07-01T06:37:08.75853Z",
     "shell.execute_reply.started": "2024-07-01T06:37:08.743058Z"
    }
   },
   "outputs": [],
   "source": [
    "# split data into train and test data.\n",
    "\n",
    "trainX , testX , trainY , testY = train_test_split(df , target , test_size = 0.2 , random_state = 42)"
   ]
  },
  {
   "cell_type": "code",
   "execution_count": 30,
   "metadata": {
    "execution": {
     "iopub.execute_input": "2024-07-01T06:37:08.762083Z",
     "iopub.status.busy": "2024-07-01T06:37:08.761742Z",
     "iopub.status.idle": "2024-07-01T06:37:08.923572Z",
     "shell.execute_reply": "2024-07-01T06:37:08.922598Z",
     "shell.execute_reply.started": "2024-07-01T06:37:08.762055Z"
    }
   },
   "outputs": [
    {
     "data": {
      "text/html": [
       "<style>#sk-container-id-1 {color: black;background-color: white;}#sk-container-id-1 pre{padding: 0;}#sk-container-id-1 div.sk-toggleable {background-color: white;}#sk-container-id-1 label.sk-toggleable__label {cursor: pointer;display: block;width: 100%;margin-bottom: 0;padding: 0.3em;box-sizing: border-box;text-align: center;}#sk-container-id-1 label.sk-toggleable__label-arrow:before {content: \"▸\";float: left;margin-right: 0.25em;color: #696969;}#sk-container-id-1 label.sk-toggleable__label-arrow:hover:before {color: black;}#sk-container-id-1 div.sk-estimator:hover label.sk-toggleable__label-arrow:before {color: black;}#sk-container-id-1 div.sk-toggleable__content {max-height: 0;max-width: 0;overflow: hidden;text-align: left;background-color: #f0f8ff;}#sk-container-id-1 div.sk-toggleable__content pre {margin: 0.2em;color: black;border-radius: 0.25em;background-color: #f0f8ff;}#sk-container-id-1 input.sk-toggleable__control:checked~div.sk-toggleable__content {max-height: 200px;max-width: 100%;overflow: auto;}#sk-container-id-1 input.sk-toggleable__control:checked~label.sk-toggleable__label-arrow:before {content: \"▾\";}#sk-container-id-1 div.sk-estimator input.sk-toggleable__control:checked~label.sk-toggleable__label {background-color: #d4ebff;}#sk-container-id-1 div.sk-label input.sk-toggleable__control:checked~label.sk-toggleable__label {background-color: #d4ebff;}#sk-container-id-1 input.sk-hidden--visually {border: 0;clip: rect(1px 1px 1px 1px);clip: rect(1px, 1px, 1px, 1px);height: 1px;margin: -1px;overflow: hidden;padding: 0;position: absolute;width: 1px;}#sk-container-id-1 div.sk-estimator {font-family: monospace;background-color: #f0f8ff;border: 1px dotted black;border-radius: 0.25em;box-sizing: border-box;margin-bottom: 0.5em;}#sk-container-id-1 div.sk-estimator:hover {background-color: #d4ebff;}#sk-container-id-1 div.sk-parallel-item::after {content: \"\";width: 100%;border-bottom: 1px solid gray;flex-grow: 1;}#sk-container-id-1 div.sk-label:hover label.sk-toggleable__label {background-color: #d4ebff;}#sk-container-id-1 div.sk-serial::before {content: \"\";position: absolute;border-left: 1px solid gray;box-sizing: border-box;top: 0;bottom: 0;left: 50%;z-index: 0;}#sk-container-id-1 div.sk-serial {display: flex;flex-direction: column;align-items: center;background-color: white;padding-right: 0.2em;padding-left: 0.2em;position: relative;}#sk-container-id-1 div.sk-item {position: relative;z-index: 1;}#sk-container-id-1 div.sk-parallel {display: flex;align-items: stretch;justify-content: center;background-color: white;position: relative;}#sk-container-id-1 div.sk-item::before, #sk-container-id-1 div.sk-parallel-item::before {content: \"\";position: absolute;border-left: 1px solid gray;box-sizing: border-box;top: 0;bottom: 0;left: 50%;z-index: -1;}#sk-container-id-1 div.sk-parallel-item {display: flex;flex-direction: column;z-index: 1;position: relative;background-color: white;}#sk-container-id-1 div.sk-parallel-item:first-child::after {align-self: flex-end;width: 50%;}#sk-container-id-1 div.sk-parallel-item:last-child::after {align-self: flex-start;width: 50%;}#sk-container-id-1 div.sk-parallel-item:only-child::after {width: 0;}#sk-container-id-1 div.sk-dashed-wrapped {border: 1px dashed gray;margin: 0 0.4em 0.5em 0.4em;box-sizing: border-box;padding-bottom: 0.4em;background-color: white;}#sk-container-id-1 div.sk-label label {font-family: monospace;font-weight: bold;display: inline-block;line-height: 1.2em;}#sk-container-id-1 div.sk-label-container {text-align: center;}#sk-container-id-1 div.sk-container {/* jupyter's `normalize.less` sets `[hidden] { display: none; }` but bootstrap.min.css set `[hidden] { display: none !important; }` so we also need the `!important` here to be able to override the default hidden behavior on the sphinx rendered scikit-learn.org. See: https://github.com/scikit-learn/scikit-learn/issues/21755 */display: inline-block !important;position: relative;}#sk-container-id-1 div.sk-text-repr-fallback {display: none;}</style><div id=\"sk-container-id-1\" class=\"sk-top-container\"><div class=\"sk-text-repr-fallback\"><pre>XGBClassifier(base_score=None, booster=None, callbacks=None,\n",
       "              colsample_bylevel=None, colsample_bynode=None,\n",
       "              colsample_bytree=None, device=None, early_stopping_rounds=None,\n",
       "              enable_categorical=False, eval_metric=None, feature_types=None,\n",
       "              gamma=None, grow_policy=None, importance_type=None,\n",
       "              interaction_constraints=None, learning_rate=None, max_bin=None,\n",
       "              max_cat_threshold=None, max_cat_to_onehot=None,\n",
       "              max_delta_step=None, max_depth=None, max_leaves=None,\n",
       "              min_child_weight=None, missing=nan, monotone_constraints=None,\n",
       "              multi_strategy=None, n_estimators=None, n_jobs=None,\n",
       "              num_parallel_tree=None, objective=&#x27;multi:softprob&#x27;, ...)</pre><b>In a Jupyter environment, please rerun this cell to show the HTML representation or trust the notebook. <br />On GitHub, the HTML representation is unable to render, please try loading this page with nbviewer.org.</b></div><div class=\"sk-container\" hidden><div class=\"sk-item\"><div class=\"sk-estimator sk-toggleable\"><input class=\"sk-toggleable__control sk-hidden--visually\" id=\"sk-estimator-id-1\" type=\"checkbox\" checked><label for=\"sk-estimator-id-1\" class=\"sk-toggleable__label sk-toggleable__label-arrow\">XGBClassifier</label><div class=\"sk-toggleable__content\"><pre>XGBClassifier(base_score=None, booster=None, callbacks=None,\n",
       "              colsample_bylevel=None, colsample_bynode=None,\n",
       "              colsample_bytree=None, device=None, early_stopping_rounds=None,\n",
       "              enable_categorical=False, eval_metric=None, feature_types=None,\n",
       "              gamma=None, grow_policy=None, importance_type=None,\n",
       "              interaction_constraints=None, learning_rate=None, max_bin=None,\n",
       "              max_cat_threshold=None, max_cat_to_onehot=None,\n",
       "              max_delta_step=None, max_depth=None, max_leaves=None,\n",
       "              min_child_weight=None, missing=nan, monotone_constraints=None,\n",
       "              multi_strategy=None, n_estimators=None, n_jobs=None,\n",
       "              num_parallel_tree=None, objective=&#x27;multi:softprob&#x27;, ...)</pre></div></div></div></div></div>"
      ],
      "text/plain": [
       "XGBClassifier(base_score=None, booster=None, callbacks=None,\n",
       "              colsample_bylevel=None, colsample_bynode=None,\n",
       "              colsample_bytree=None, device=None, early_stopping_rounds=None,\n",
       "              enable_categorical=False, eval_metric=None, feature_types=None,\n",
       "              gamma=None, grow_policy=None, importance_type=None,\n",
       "              interaction_constraints=None, learning_rate=None, max_bin=None,\n",
       "              max_cat_threshold=None, max_cat_to_onehot=None,\n",
       "              max_delta_step=None, max_depth=None, max_leaves=None,\n",
       "              min_child_weight=None, missing=nan, monotone_constraints=None,\n",
       "              multi_strategy=None, n_estimators=None, n_jobs=None,\n",
       "              num_parallel_tree=None, objective='multi:softprob', ...)"
      ]
     },
     "execution_count": 30,
     "metadata": {},
     "output_type": "execute_result"
    }
   ],
   "source": [
    "model = xgb.XGBClassifier()\n",
    "\n",
    "model.fit(trainX , trainY)"
   ]
  },
  {
   "cell_type": "code",
   "execution_count": 31,
   "metadata": {
    "execution": {
     "iopub.execute_input": "2024-07-01T06:37:08.928675Z",
     "iopub.status.busy": "2024-07-01T06:37:08.92759Z",
     "iopub.status.idle": "2024-07-01T06:37:08.962291Z",
     "shell.execute_reply": "2024-07-01T06:37:08.96133Z",
     "shell.execute_reply.started": "2024-07-01T06:37:08.928641Z"
    }
   },
   "outputs": [
    {
     "name": "stdout",
     "output_type": "stream",
     "text": [
      "train data r2 : 0.93\n",
      "test data r2 : 0.91\n",
      "              precision    recall  f1-score   support\n",
      "\n",
      "           0       0.90      0.95      0.92        77\n",
      "           1       0.88      0.56      0.68        25\n",
      "           2       0.92      0.97      0.95        98\n",
      "\n",
      "    accuracy                           0.91       200\n",
      "   macro avg       0.90      0.83      0.85       200\n",
      "weighted avg       0.91      0.91      0.90       200\n",
      "\n"
     ]
    }
   ],
   "source": [
    "# Normal Model evaluation\n",
    "\n",
    "print(f\"train data r2 : {model.score(trainX , trainY)}\")\n",
    "print(f\"test data r2 : {model.score(testX , testY)}\")\n",
    "\n",
    "y_pred = model.predict(testX)\n",
    "\n",
    "print(classification_report(testY , y_pred))"
   ]
  },
  {
   "cell_type": "markdown",
   "metadata": {},
   "source": [
    "We can see that the f1 score is low on specific class.\n",
    "\n",
    "so , it seems that the imbalance in the class needs to be resolved."
   ]
  },
  {
   "cell_type": "code",
   "execution_count": 32,
   "metadata": {
    "execution": {
     "iopub.execute_input": "2024-07-01T06:37:08.967044Z",
     "iopub.status.busy": "2024-07-01T06:37:08.966686Z",
     "iopub.status.idle": "2024-07-01T06:37:24.525541Z",
     "shell.execute_reply": "2024-07-01T06:37:24.523955Z",
     "shell.execute_reply.started": "2024-07-01T06:37:08.967015Z"
    }
   },
   "outputs": [
    {
     "name": "stderr",
     "output_type": "stream",
     "text": [
      "\n",
      "[notice] A new release of pip is available: 24.1.1 -> 24.1.2\n",
      "[notice] To update, run: python.exe -m pip install --upgrade pip\n"
     ]
    },
    {
     "name": "stdout",
     "output_type": "stream",
     "text": [
      "Collecting imblearn\n",
      "  Downloading imblearn-0.0-py2.py3-none-any.whl.metadata (355 bytes)\n",
      "Collecting imbalanced-learn (from imblearn)\n",
      "  Downloading imbalanced_learn-0.12.3-py3-none-any.whl.metadata (8.3 kB)\n",
      "Requirement already satisfied: numpy>=1.17.3 in c:\\users\\dell\\anaconda3\\lib\\site-packages (from imbalanced-learn->imblearn) (1.26.2)\n",
      "Requirement already satisfied: scipy>=1.5.0 in c:\\users\\dell\\anaconda3\\lib\\site-packages (from imbalanced-learn->imblearn) (1.12.0)\n",
      "Requirement already satisfied: scikit-learn>=1.0.2 in c:\\users\\dell\\anaconda3\\lib\\site-packages (from imbalanced-learn->imblearn) (1.1.3)\n",
      "Collecting joblib>=1.1.1 (from imbalanced-learn->imblearn)\n",
      "  Using cached joblib-1.4.2-py3-none-any.whl.metadata (5.4 kB)\n",
      "Requirement already satisfied: threadpoolctl>=2.0.0 in c:\\users\\dell\\anaconda3\\lib\\site-packages (from imbalanced-learn->imblearn) (2.2.0)\n",
      "Downloading imblearn-0.0-py2.py3-none-any.whl (1.9 kB)\n",
      "Downloading imbalanced_learn-0.12.3-py3-none-any.whl (258 kB)\n",
      "   ---------------------------------------- 258.3/258.3 kB 1.1 MB/s eta 0:00:00\n",
      "Using cached joblib-1.4.2-py3-none-any.whl (301 kB)\n",
      "Installing collected packages: joblib, imbalanced-learn, imblearn\n",
      "  Attempting uninstall: joblib\n",
      "    Found existing installation: joblib 1.1.0\n",
      "    Uninstalling joblib-1.1.0:\n",
      "      Successfully uninstalled joblib-1.1.0\n",
      "Successfully installed imbalanced-learn-0.12.3 imblearn-0.0 joblib-1.4.2\n",
      "Note: you may need to restart the kernel to use updated packages.\n"
     ]
    }
   ],
   "source": [
    "# Oversampling\n",
    "\n",
    "%pip install imblearn\n",
    "\n",
    "from imblearn.over_sampling import SMOTE"
   ]
  },
  {
   "cell_type": "markdown",
   "metadata": {},
   "source": [
    "We can use SMOTE to solve this problem."
   ]
  },
  {
   "cell_type": "code",
   "execution_count": 33,
   "metadata": {
    "execution": {
     "iopub.execute_input": "2024-07-01T06:37:24.528468Z",
     "iopub.status.busy": "2024-07-01T06:37:24.528026Z",
     "iopub.status.idle": "2024-07-01T06:37:24.551348Z",
     "shell.execute_reply": "2024-07-01T06:37:24.549906Z",
     "shell.execute_reply.started": "2024-07-01T06:37:24.528431Z"
    }
   },
   "outputs": [],
   "source": [
    "smote = SMOTE()\n",
    "\n",
    "df_resampled , target_resampled = smote.fit_resample(df , target)"
   ]
  },
  {
   "cell_type": "code",
   "execution_count": 34,
   "metadata": {
    "execution": {
     "iopub.execute_input": "2024-07-01T06:37:24.553879Z",
     "iopub.status.busy": "2024-07-01T06:37:24.55345Z",
     "iopub.status.idle": "2024-07-01T06:37:24.561198Z",
     "shell.execute_reply": "2024-07-01T06:37:24.559833Z",
     "shell.execute_reply.started": "2024-07-01T06:37:24.553846Z"
    }
   },
   "outputs": [
    {
     "name": "stdout",
     "output_type": "stream",
     "text": [
      "Data size before Oversampling : (1000, 4)\n",
      "Data size before Oversampling : (1000,)\n",
      "Data size after Oversampling : (1485, 4)\n",
      "Data size after Oversampling : (1485,)\n"
     ]
    }
   ],
   "source": [
    "# check the data size.\n",
    "\n",
    "print(f\"Data size before Oversampling : {df.shape}\")\n",
    "print(f\"Data size before Oversampling : {target.shape}\")\n",
    "print(f\"Data size after Oversampling : {df_resampled.shape}\")\n",
    "print(f\"Data size after Oversampling : {target_resampled.shape}\")"
   ]
  },
  {
   "cell_type": "markdown",
   "metadata": {},
   "source": [
    "Using SMOTE , we can see that the imbalance between classes has been resolved."
   ]
  },
  {
   "cell_type": "code",
   "execution_count": 35,
   "metadata": {
    "execution": {
     "iopub.execute_input": "2024-07-01T06:37:24.562968Z",
     "iopub.status.busy": "2024-07-01T06:37:24.562612Z",
     "iopub.status.idle": "2024-07-01T06:37:24.887937Z",
     "shell.execute_reply": "2024-07-01T06:37:24.886518Z",
     "shell.execute_reply.started": "2024-07-01T06:37:24.562939Z"
    }
   },
   "outputs": [
    {
     "data": {
      "image/png": "[encoded data removed]",
      "text/plain": [
       "<Figure size 432x288 with 1 Axes>"
      ]
     },
     "metadata": {
      "needs_background": "light"
     },
     "output_type": "display_data"
    }
   ],
   "source": [
    "# Profitability\n",
    "\n",
    "data = target_resampled.value_counts()\n",
    "plt.bar(data.index , data.values , width = 0.4)\n",
    "plt.title('Count of Profitability after Oversampling')\n",
    "plt.show()"
   ]
  },
  {
   "cell_type": "code",
   "execution_count": 36,
   "metadata": {
    "execution": {
     "iopub.execute_input": "2024-07-01T06:37:24.890178Z",
     "iopub.status.busy": "2024-07-01T06:37:24.889697Z",
     "iopub.status.idle": "2024-07-01T06:37:24.900634Z",
     "shell.execute_reply": "2024-07-01T06:37:24.899273Z",
     "shell.execute_reply.started": "2024-07-01T06:37:24.890133Z"
    }
   },
   "outputs": [],
   "source": [
    "trainX , testX , trainY , testY = train_test_split(df_resampled , target_resampled \n",
    "                                                   , test_size = 0.2 , random_state = 42)"
   ]
  },
  {
   "cell_type": "code",
   "execution_count": 37,
   "metadata": {
    "execution": {
     "iopub.execute_input": "2024-07-01T06:37:24.902849Z",
     "iopub.status.busy": "2024-07-01T06:37:24.902318Z",
     "iopub.status.idle": "2024-07-01T06:37:25.075329Z",
     "shell.execute_reply": "2024-07-01T06:37:25.07434Z",
     "shell.execute_reply.started": "2024-07-01T06:37:24.902787Z"
    }
   },
   "outputs": [
    {
     "data": {
      "text/html": [
       "<style>#sk-container-id-2 {color: black;background-color: white;}#sk-container-id-2 pre{padding: 0;}#sk-container-id-2 div.sk-toggleable {background-color: white;}#sk-container-id-2 label.sk-toggleable__label {cursor: pointer;display: block;width: 100%;margin-bottom: 0;padding: 0.3em;box-sizing: border-box;text-align: center;}#sk-container-id-2 label.sk-toggleable__label-arrow:before {content: \"▸\";float: left;margin-right: 0.25em;color: #696969;}#sk-container-id-2 label.sk-toggleable__label-arrow:hover:before {color: black;}#sk-container-id-2 div.sk-estimator:hover label.sk-toggleable__label-arrow:before {color: black;}#sk-container-id-2 div.sk-toggleable__content {max-height: 0;max-width: 0;overflow: hidden;text-align: left;background-color: #f0f8ff;}#sk-container-id-2 div.sk-toggleable__content pre {margin: 0.2em;color: black;border-radius: 0.25em;background-color: #f0f8ff;}#sk-container-id-2 input.sk-toggleable__control:checked~div.sk-toggleable__content {max-height: 200px;max-width: 100%;overflow: auto;}#sk-container-id-2 input.sk-toggleable__control:checked~label.sk-toggleable__label-arrow:before {content: \"▾\";}#sk-container-id-2 div.sk-estimator input.sk-toggleable__control:checked~label.sk-toggleable__label {background-color: #d4ebff;}#sk-container-id-2 div.sk-label input.sk-toggleable__control:checked~label.sk-toggleable__label {background-color: #d4ebff;}#sk-container-id-2 input.sk-hidden--visually {border: 0;clip: rect(1px 1px 1px 1px);clip: rect(1px, 1px, 1px, 1px);height: 1px;margin: -1px;overflow: hidden;padding: 0;position: absolute;width: 1px;}#sk-container-id-2 div.sk-estimator {font-family: monospace;background-color: #f0f8ff;border: 1px dotted black;border-radius: 0.25em;box-sizing: border-box;margin-bottom: 0.5em;}#sk-container-id-2 div.sk-estimator:hover {background-color: #d4ebff;}#sk-container-id-2 div.sk-parallel-item::after {content: \"\";width: 100%;border-bottom: 1px solid gray;flex-grow: 1;}#sk-container-id-2 div.sk-label:hover label.sk-toggleable__label {background-color: #d4ebff;}#sk-container-id-2 div.sk-serial::before {content: \"\";position: absolute;border-left: 1px solid gray;box-sizing: border-box;top: 0;bottom: 0;left: 50%;z-index: 0;}#sk-container-id-2 div.sk-serial {display: flex;flex-direction: column;align-items: center;background-color: white;padding-right: 0.2em;padding-left: 0.2em;position: relative;}#sk-container-id-2 div.sk-item {position: relative;z-index: 1;}#sk-container-id-2 div.sk-parallel {display: flex;align-items: stretch;justify-content: center;background-color: white;position: relative;}#sk-container-id-2 div.sk-item::before, #sk-container-id-2 div.sk-parallel-item::before {content: \"\";position: absolute;border-left: 1px solid gray;box-sizing: border-box;top: 0;bottom: 0;left: 50%;z-index: -1;}#sk-container-id-2 div.sk-parallel-item {display: flex;flex-direction: column;z-index: 1;position: relative;background-color: white;}#sk-container-id-2 div.sk-parallel-item:first-child::after {align-self: flex-end;width: 50%;}#sk-container-id-2 div.sk-parallel-item:last-child::after {align-self: flex-start;width: 50%;}#sk-container-id-2 div.sk-parallel-item:only-child::after {width: 0;}#sk-container-id-2 div.sk-dashed-wrapped {border: 1px dashed gray;margin: 0 0.4em 0.5em 0.4em;box-sizing: border-box;padding-bottom: 0.4em;background-color: white;}#sk-container-id-2 div.sk-label label {font-family: monospace;font-weight: bold;display: inline-block;line-height: 1.2em;}#sk-container-id-2 div.sk-label-container {text-align: center;}#sk-container-id-2 div.sk-container {/* jupyter's `normalize.less` sets `[hidden] { display: none; }` but bootstrap.min.css set `[hidden] { display: none !important; }` so we also need the `!important` here to be able to override the default hidden behavior on the sphinx rendered scikit-learn.org. See: https://github.com/scikit-learn/scikit-learn/issues/21755 */display: inline-block !important;position: relative;}#sk-container-id-2 div.sk-text-repr-fallback {display: none;}</style><div id=\"sk-container-id-2\" class=\"sk-top-container\"><div class=\"sk-text-repr-fallback\"><pre>XGBClassifier(base_score=None, booster=None, callbacks=None,\n",
       "              colsample_bylevel=None, colsample_bynode=None,\n",
       "              colsample_bytree=None, device=None, early_stopping_rounds=None,\n",
       "              enable_categorical=False, eval_metric=None, feature_types=None,\n",
       "              gamma=None, grow_policy=None, importance_type=None,\n",
       "              interaction_constraints=None, learning_rate=None, max_bin=None,\n",
       "              max_cat_threshold=None, max_cat_to_onehot=None,\n",
       "              max_delta_step=None, max_depth=None, max_leaves=None,\n",
       "              min_child_weight=None, missing=nan, monotone_constraints=None,\n",
       "              multi_strategy=None, n_estimators=None, n_jobs=None,\n",
       "              num_parallel_tree=None, objective=&#x27;multi:softprob&#x27;, ...)</pre><b>In a Jupyter environment, please rerun this cell to show the HTML representation or trust the notebook. <br />On GitHub, the HTML representation is unable to render, please try loading this page with nbviewer.org.</b></div><div class=\"sk-container\" hidden><div class=\"sk-item\"><div class=\"sk-estimator sk-toggleable\"><input class=\"sk-toggleable__control sk-hidden--visually\" id=\"sk-estimator-id-2\" type=\"checkbox\" checked><label for=\"sk-estimator-id-2\" class=\"sk-toggleable__label sk-toggleable__label-arrow\">XGBClassifier</label><div class=\"sk-toggleable__content\"><pre>XGBClassifier(base_score=None, booster=None, callbacks=None,\n",
       "              colsample_bylevel=None, colsample_bynode=None,\n",
       "              colsample_bytree=None, device=None, early_stopping_rounds=None,\n",
       "              enable_categorical=False, eval_metric=None, feature_types=None,\n",
       "              gamma=None, grow_policy=None, importance_type=None,\n",
       "              interaction_constraints=None, learning_rate=None, max_bin=None,\n",
       "              max_cat_threshold=None, max_cat_to_onehot=None,\n",
       "              max_delta_step=None, max_depth=None, max_leaves=None,\n",
       "              min_child_weight=None, missing=nan, monotone_constraints=None,\n",
       "              multi_strategy=None, n_estimators=None, n_jobs=None,\n",
       "              num_parallel_tree=None, objective=&#x27;multi:softprob&#x27;, ...)</pre></div></div></div></div></div>"
      ],
      "text/plain": [
       "XGBClassifier(base_score=None, booster=None, callbacks=None,\n",
       "              colsample_bylevel=None, colsample_bynode=None,\n",
       "              colsample_bytree=None, device=None, early_stopping_rounds=None,\n",
       "              enable_categorical=False, eval_metric=None, feature_types=None,\n",
       "              gamma=None, grow_policy=None, importance_type=None,\n",
       "              interaction_constraints=None, learning_rate=None, max_bin=None,\n",
       "              max_cat_threshold=None, max_cat_to_onehot=None,\n",
       "              max_delta_step=None, max_depth=None, max_leaves=None,\n",
       "              min_child_weight=None, missing=nan, monotone_constraints=None,\n",
       "              multi_strategy=None, n_estimators=None, n_jobs=None,\n",
       "              num_parallel_tree=None, objective='multi:softprob', ...)"
      ]
     },
     "execution_count": 37,
     "metadata": {},
     "output_type": "execute_result"
    }
   ],
   "source": [
    "model = xgb.XGBClassifier()\n",
    "\n",
    "model.fit(trainX , trainY)"
   ]
  },
  {
   "cell_type": "code",
   "execution_count": 38,
   "metadata": {
    "execution": {
     "iopub.execute_input": "2024-07-01T06:37:25.079553Z",
     "iopub.status.busy": "2024-07-01T06:37:25.079163Z",
     "iopub.status.idle": "2024-07-01T06:37:25.122103Z",
     "shell.execute_reply": "2024-07-01T06:37:25.121171Z",
     "shell.execute_reply.started": "2024-07-01T06:37:25.079525Z"
    }
   },
   "outputs": [
    {
     "name": "stdout",
     "output_type": "stream",
     "text": [
      "train data r2 : 0.9048821548821548\n",
      "test data r2 : 0.8619528619528619\n",
      "              precision    recall  f1-score   support\n",
      "\n",
      "           0       0.86      0.91      0.89        91\n",
      "           1       0.90      0.75      0.82       109\n",
      "           2       0.83      0.94      0.88        97\n",
      "\n",
      "    accuracy                           0.86       297\n",
      "   macro avg       0.86      0.87      0.86       297\n",
      "weighted avg       0.87      0.86      0.86       297\n",
      "\n"
     ]
    }
   ],
   "source": [
    "# Model evaluation\n",
    "\n",
    "print(f\"train data r2 : {model.score(trainX , trainY)}\")\n",
    "print(f\"test data r2 : {model.score(testX , testY)}\")\n",
    "\n",
    "y_pred = model.predict(testX)\n",
    "\n",
    "print(classification_report(testY , y_pred))"
   ]
  },
  {
   "cell_type": "markdown",
   "metadata": {},
   "source": [
    "We can see that it's generalized as a whole."
   ]
  },
  {
   "cell_type": "code",
   "execution_count": 39,
   "metadata": {
    "execution": {
     "iopub.execute_input": "2024-07-01T06:37:25.124208Z",
     "iopub.status.busy": "2024-07-01T06:37:25.123615Z",
     "iopub.status.idle": "2024-07-01T06:37:25.401509Z",
     "shell.execute_reply": "2024-07-01T06:37:25.399832Z",
     "shell.execute_reply.started": "2024-07-01T06:37:25.124176Z"
    }
   },
   "outputs": [
    {
     "data": {
      "text/plain": [
       "<Axes: title={'center': 'Feature importance'}, xlabel='F score', ylabel='Features'>"
      ]
     },
     "execution_count": 39,
     "metadata": {},
     "output_type": "execute_result"
    },
    {
     "data": {
      "image/png": "[encoded data removed]",
      "text/plain": [
       "<Figure size 432x288 with 1 Axes>"
      ]
     },
     "metadata": {
      "needs_background": "light"
     },
     "output_type": "display_data"
    }
   ],
   "source": [
    "xgb.plot_importance(model)"
   ]
  },
  {
   "cell_type": "markdown",
   "metadata": {},
   "source": [
    "### HyperParameter Tuning"
   ]
  },
  {
   "cell_type": "code",
   "execution_count": 40,
   "metadata": {
    "execution": {
     "iopub.execute_input": "2024-07-01T06:37:25.404023Z",
     "iopub.status.busy": "2024-07-01T06:37:25.403572Z",
     "iopub.status.idle": "2024-07-01T06:37:25.410765Z",
     "shell.execute_reply": "2024-07-01T06:37:25.409489Z",
     "shell.execute_reply.started": "2024-07-01T06:37:25.403989Z"
    }
   },
   "outputs": [],
   "source": [
    "from sklearn.model_selection import KFold\n",
    "\n",
    "kfold = KFold(n_splits = 5)"
   ]
  },
  {
   "cell_type": "code",
   "execution_count": 41,
   "metadata": {
    "execution": {
     "iopub.execute_input": "2024-07-01T06:37:25.412549Z",
     "iopub.status.busy": "2024-07-01T06:37:25.412184Z",
     "iopub.status.idle": "2024-07-01T06:37:54.826704Z",
     "shell.execute_reply": "2024-07-01T06:37:54.825312Z",
     "shell.execute_reply.started": "2024-07-01T06:37:25.41252Z"
    }
   },
   "outputs": [
    {
     "name": "stdout",
     "output_type": "stream",
     "text": [
      "Fitting 5 folds for each of 24 candidates, totalling 120 fits\n"
     ]
    }
   ],
   "source": [
    "model = xgb.XGBClassifier()\n",
    "\n",
    "params = {\n",
    "    'n_estimators' : [100 , 200 , 300] ,\n",
    "    'max_depth' : [3 , 7] ,\n",
    "    'min_child_weight' : [1 , 3] ,\n",
    "    'colsample_bytree' : [0.5 , 0.8]\n",
    "}\n",
    "\n",
    "gcv = GridSearchCV(model , param_grid = params , cv = kfold , scoring = 'accuracy' ,\n",
    "                  verbose = 1)\n",
    "gcv.fit(trainX , trainY)\n",
    "\n",
    "best = gcv.best_estimator_"
   ]
  },
  {
   "cell_type": "code",
   "execution_count": 42,
   "metadata": {
    "execution": {
     "iopub.execute_input": "2024-07-01T06:37:54.835733Z",
     "iopub.status.busy": "2024-07-01T06:37:54.832586Z",
     "iopub.status.idle": "2024-07-01T06:37:54.843967Z",
     "shell.execute_reply": "2024-07-01T06:37:54.842196Z",
     "shell.execute_reply.started": "2024-07-01T06:37:54.835674Z"
    }
   },
   "outputs": [
    {
     "name": "stdout",
     "output_type": "stream",
     "text": [
      "best model score : 0.8829876254299187\n",
      "params : {'colsample_bytree': 0.5, 'max_depth': 3, 'min_child_weight': 1, 'n_estimators': 200}\n"
     ]
    }
   ],
   "source": [
    "print(f\"best model score : {gcv.best_score_}\")\n",
    "print(f\"params : {gcv.best_params_}\")"
   ]
  },
  {
   "cell_type": "code",
   "execution_count": 43,
   "metadata": {
    "execution": {
     "iopub.execute_input": "2024-07-01T06:37:54.846393Z",
     "iopub.status.busy": "2024-07-01T06:37:54.845587Z",
     "iopub.status.idle": "2024-07-01T06:37:54.990623Z",
     "shell.execute_reply": "2024-07-01T06:37:54.989487Z",
     "shell.execute_reply.started": "2024-07-01T06:37:54.846349Z"
    }
   },
   "outputs": [
    {
     "name": "stdout",
     "output_type": "stream",
     "text": [
      "train data r2 : 0.8956228956228957\n",
      "test data r2 : 0.8518518518518519\n",
      "              precision    recall  f1-score   support\n",
      "\n",
      "           0       0.87      0.92      0.89        91\n",
      "           1       0.92      0.71      0.80       109\n",
      "           2       0.79      0.95      0.86        97\n",
      "\n",
      "    accuracy                           0.85       297\n",
      "   macro avg       0.86      0.86      0.85       297\n",
      "weighted avg       0.86      0.85      0.85       297\n",
      "\n"
     ]
    }
   ],
   "source": [
    "model = xgb.XGBClassifier(\n",
    "    n_estimators = 100 ,\n",
    "    max_depth = 3 ,\n",
    "    min_child_weight = 1 ,\n",
    "    colsample_bytree = 0.8\n",
    ")\n",
    "\n",
    "model.fit(trainX , trainY)\n",
    "\n",
    "# Model evaluation\n",
    "\n",
    "print(f\"train data r2 : {model.score(trainX , trainY)}\")\n",
    "print(f\"test data r2 : {model.score(testX , testY)}\")\n",
    "\n",
    "y_pred = model.predict(testX)\n",
    "\n",
    "print(classification_report(testY , y_pred))"
   ]
  },
  {
   "cell_type": "markdown",
   "metadata": {},
   "source": [
    "Through the hyperparameter tuning using GridSearchCV , we can see that not only Price but also other features are better reflected in the model."
   ]
  },
  {
   "cell_type": "code",
   "execution_count": 44,
   "metadata": {
    "execution": {
     "iopub.execute_input": "2024-07-01T06:37:55.001663Z",
     "iopub.status.busy": "2024-07-01T06:37:55.001197Z",
     "iopub.status.idle": "2024-07-01T06:37:55.333689Z",
     "shell.execute_reply": "2024-07-01T06:37:55.332065Z",
     "shell.execute_reply.started": "2024-07-01T06:37:55.001629Z"
    }
   },
   "outputs": [
    {
     "data": {
      "text/plain": [
       "<Axes: title={'center': 'Feature importance'}, xlabel='F score', ylabel='Features'>"
      ]
     },
     "execution_count": 44,
     "metadata": {},
     "output_type": "execute_result"
    },
    {
     "data": {
      "image/png": "[encoded data removed]",
      "text/plain": [
       "<Figure size 432x288 with 1 Axes>"
      ]
     },
     "metadata": {
      "needs_background": "light"
     },
     "output_type": "display_data"
    }
   ],
   "source": [
    "xgb.plot_importance(model)"
   ]
  }
 ],
 "metadata": {
  "kaggle": {
   "accelerator": "none",
   "dataSources": [
    {
     "datasetId": 5249830,
     "sourceId": 8743558,
     "sourceType": "datasetVersion"
    }
   ],
   "dockerImageVersionId": 30732,
   "isGpuEnabled": false,
   "isInternetEnabled": true,
   "language": "python",
   "sourceType": "notebook"
  },
  "kernelspec": {
   "display_name": "Python 3 (ipykernel)",
   "language": "python",
   "name": "python3"
  },
  "language_info": {
   "codemirror_mode": {
    "name": "ipython",
    "version": 3
   },
   "file_extension": ".py",
   "mimetype": "text/x-python",
   "name": "python",
   "nbconvert_exporter": "python",
   "pygments_lexer": "ipython3",
   "version": "3.9.12"
  }
 },
 "nbformat": 4,
 "nbformat_minor": 4
}
